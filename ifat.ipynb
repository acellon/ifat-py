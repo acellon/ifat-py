{
 "cells": [
  {
   "cell_type": "markdown",
   "metadata": {},
   "source": [
    "# Development Notebook for IFAT Simulator"
   ]
  },
  {
   "cell_type": "code",
   "execution_count": 1,
   "metadata": {
    "collapsed": true
   },
   "outputs": [],
   "source": [
    "from brian2 import *\n",
    "import matplotlib.pyplot as plt\n",
    "\n",
    "%matplotlib inline"
   ]
  },
  {
   "cell_type": "code",
   "execution_count": 2,
   "metadata": {
    "collapsed": true
   },
   "outputs": [],
   "source": [
    "MODE = 'adaptive'"
   ]
  },
  {
   "cell_type": "code",
   "execution_count": 3,
   "metadata": {
    "collapsed": true
   },
   "outputs": [],
   "source": [
    "# Define various equations\n",
    "\n",
    "if MODE == 'adaptive':\n",
    "    neuron_eq = '''\n",
    "        dVm/dt = (glm / Cm) * (Vm_r - Vm) : volt\n",
    "        dVt/dt = (glt / Ct) * (Vt_r - Vt) : volt\n",
    "\n",
    "        glm = flm * Cl                    : siemens\n",
    "        glt = flt * Cl                    : siemens\n",
    "    '''\n",
    "    reset_eq = '''\n",
    "        Vm = Vm_r\n",
    "        Vt = Vt * (Vt > Vm) + Vt_r * (Vt <= Vm)\n",
    "    '''\n",
    "    presyn_eq = '''\n",
    "        Vm_old = Vm\n",
    "        Vm = Vm_old + Vsyn\n",
    "        Vt += (Cst/Ct) * (Vm_old - Vm_r)\n",
    "    '''\n",
    "else:\n",
    "    neuron_eq = '''\n",
    "        dVm/dt = (glm / Cm) * (Vm_r - Vm) : volt\n",
    "\n",
    "        glm = flm * Cl                    : siemens\n",
    "    '''\n",
    "    reset_eq = '''\n",
    "        Vm = Vm_r\n",
    "    '''\n",
    "    presyn_eq = '''\n",
    "        Vm_old = Vm\n",
    "        Vm = Vm_old + Vsyn\n",
    "    '''\n",
    "\n",
    "# Synapse equation is the same for both modes!\n",
    "syn_eq = '''\n",
    "    Vsyn = (W/Cm)*(Em - Vm) : volt\n",
    "    Em                      : volt\n",
    "    W                       : farad\n",
    "'''"
   ]
  },
  {
   "cell_type": "code",
   "execution_count": 4,
   "metadata": {
    "collapsed": true
   },
   "outputs": [],
   "source": [
    "# IFAT specific definitions\n",
    "Vdd = 5 * volt\n",
    "Cm = Ct = 0.44 * pF\n",
    "Cl = 0.02 * pF\n",
    "\n",
    "W_vals  = np.array([5, 10, 20, 40, 80]) * 0.001 * pF\n",
    "Em_vals = np.array([0, 1/3, 2/3, 1]) * Vdd\n"
   ]
  },
  {
   "cell_type": "code",
   "execution_count": 5,
   "metadata": {
    "collapsed": true
   },
   "outputs": [],
   "source": [
    "# Model parameters\n",
    "Vm_r = 1 * volt\n",
    "flm  = 10 * kHz\n",
    "Csm  = W_vals[0]\n",
    "\n",
    "Vt_r = 3 * volt\n",
    "flt  = 0.2 * MHz\n",
    "Cst  = 0 * pF\n",
    "\n",
    "N = 4"
   ]
  },
  {
   "cell_type": "code",
   "execution_count": 6,
   "metadata": {
    "collapsed": true
   },
   "outputs": [],
   "source": [
    "start_scope()"
   ]
  },
  {
   "cell_type": "code",
   "execution_count": 8,
   "metadata": {
    "collapsed": false
   },
   "outputs": [],
   "source": [
    "# Start\n",
    "test = NeuronGroup(N, neuron_eq, threshold='Vm >Vt', reset=reset_eq, method='exact')\n",
    "test.Vm = Vm_r\n",
    "test.Vt = Vt_r"
   ]
  },
  {
   "cell_type": "code",
   "execution_count": null,
   "metadata": {
    "collapsed": true
   },
   "outputs": [],
   "source": [
    "spgen = SpikeGeneratorGroup(1,[0],[100*ms])"
   ]
  },
  {
   "cell_type": "code",
   "execution_count": 16,
   "metadata": {
    "collapsed": true
   },
   "outputs": [],
   "source": [
    "# insyn = Synapses(spgen, test, syn_eq, on_pre=presyn_eq, multisynaptic_index='k')\n",
    "# insyn.connect(i=0,j=0,n=100)\n",
    "# insyn.delay='0.2*us+k*0.2*us'\n",
    "# insyn.Em = Em_vals[1]\n",
    "# insyn.W = Csm"
   ]
  },
  {
   "cell_type": "code",
   "execution_count": 9,
   "metadata": {
    "collapsed": true
   },
   "outputs": [],
   "source": [
    "# exc_syn = Synapses(test, test, syn_eq, on_pre=presyn_eq)\n",
    "# exc_syn.connect('j==((i+1)%6)')\n",
    "# exc_syn.Em = '4*volt'\n",
    "# exc_syn.W = 30 * Csm"
   ]
  },
  {
   "cell_type": "code",
   "execution_count": 11,
   "metadata": {
    "collapsed": true
   },
   "outputs": [],
   "source": []
  },
  {
   "cell_type": "code",
   "execution_count": 12,
   "metadata": {
    "collapsed": true
   },
   "outputs": [],
   "source": [
    "sp_mon = SpikeMonitor(test)\n",
    "vm_mon = StateMonitor(test, 'Vmem', record=True)\n",
    "vt_mon = StateMonitor(test,'theta',record=True)"
   ]
  },
  {
   "cell_type": "code",
   "execution_count": 13,
   "metadata": {
    "collapsed": false,
    "scrolled": false
   },
   "outputs": [
    {
     "name": "stderr",
     "output_type": "stream",
     "text": [
      "WARNING    Came across an abstract code block that may not be well-defined: the outcome may depend on the order of execution. You can ignore this warning if you are sure that the order of operations does not matter. 4 lines of abstract code, first line is: \"Vmem_old := Vmem (constant)\"\n",
      " [brian2.codegen.generators.base]\n",
      "WARNING    Came across an abstract code block that may not be well-defined: the outcome may depend on the order of execution. You can ignore this warning if you are sure that the order of operations does not matter. 4 lines of abstract code, first line is: \"Vmem_old := Vmem (constant)\"\n",
      " [brian2.codegen.generators.base]\n"
     ]
    }
   ],
   "source": [
    "run(1*second)"
   ]
  },
  {
   "cell_type": "code",
   "execution_count": 14,
   "metadata": {
    "collapsed": false,
    "scrolled": true
   },
   "outputs": [
    {
     "data": {
      "image/png": "[encoded data removed]",
      "text/plain": [
       "<matplotlib.figure.Figure at 0x7ff14ba888d0>"
      ]
     },
     "metadata": {},
     "output_type": "display_data"
    }
   ],
   "source": [
    "for i in range(6):\n",
    "    plot(vmon.t, vmon.Vmem[i],tmon.t, tmon.theta[i])"
   ]
  },
  {
   "cell_type": "code",
   "execution_count": 15,
   "metadata": {
    "collapsed": false
   },
   "outputs": [
    {
     "data": {
      "text/plain": [
       "(0.099, 0.11)"
      ]
     },
     "execution_count": 15,
     "metadata": {},
     "output_type": "execute_result"
    },
    {
     "data": {
      "image/png": "[encoded data removed]",
      "text/plain": [
       "<matplotlib.figure.Figure at 0x7ff148e9a1d0>"
      ]
     },
     "metadata": {},
     "output_type": "display_data"
    }
   ],
   "source": [
    "plot(vmon.t, vmon.Vmem[0],tmon.t, tmon.theta[0]);xlim([0.099,0.11])"
   ]
  },
  {
   "cell_type": "code",
   "execution_count": 16,
   "metadata": {
    "collapsed": false,
    "scrolled": true
   },
   "outputs": [
    {
     "data": {
      "text/plain": [
       "(0.098, 0.102)"
      ]
     },
     "execution_count": 16,
     "metadata": {},
     "output_type": "execute_result"
    },
    {
     "data": {
      "image/png": "[encoded data removed]",
      "text/plain": [
       "<matplotlib.figure.Figure at 0x7ff14baff048>"
      ]
     },
     "metadata": {},
     "output_type": "display_data"
    }
   ],
   "source": [
    "for i in range(6):\n",
    "    plot(vmon.t, vmon.Vmem[i])\n",
    "    \n",
    "xlim([0.098,0.102])"
   ]
  },
  {
   "cell_type": "code",
   "execution_count": 17,
   "metadata": {
    "collapsed": false
   },
   "outputs": [
    {
     "data": {
      "text/plain": [
       "(0.099, 0.11)"
      ]
     },
     "execution_count": 17,
     "metadata": {},
     "output_type": "execute_result"
    },
    {
     "data": {
      "image/png": "[encoded data removed]",
      "text/plain": [
       "<matplotlib.figure.Figure at 0x7ff148f466d8>"
      ]
     },
     "metadata": {},
     "output_type": "display_data"
    }
   ],
   "source": [
    "plot(mon.t, mon.i,'.'); xlim([0.099,0.11])"
   ]
  },
  {
   "cell_type": "code",
   "execution_count": 18,
   "metadata": {
    "collapsed": false
   },
   "outputs": [
    {
     "data": {
      "text/plain": [
       "Synapses(clock=Clock(dt=100. * usecond, name='defaultclock'), when=start, order=0, name='synapses')"
      ]
     },
     "execution_count": 18,
     "metadata": {},
     "output_type": "execute_result"
    }
   ],
   "source": [
    "insyn"
   ]
  },
  {
   "cell_type": "code",
   "execution_count": 19,
   "metadata": {
    "collapsed": false
   },
   "outputs": [
    {
     "data": {
      "text/plain": [
       "<synapses_pre.delay: array([ 0.2,  0.4,  0.6,  0.8,  1. ,  1.2,  1.4,  1.6,  1.8,  2. ,  2.2,\n",
       "        2.4,  2.6,  2.8,  3. ,  3.2,  3.4,  3.6,  3.8,  4. ,  4.2,  4.4,\n",
       "        4.6,  4.8,  5. ,  5.2,  5.4,  5.6,  5.8,  6. ,  6.2,  6.4,  6.6,\n",
       "        6.8,  7. ,  7.2,  7.4,  7.6,  7.8,  8. ,  8.2,  8.4,  8.6,  8.8,\n",
       "        9. ,  9.2,  9.4,  9.6,  9.8, 10. , 10.2, 10.4, 10.6, 10.8, 11. ,\n",
       "       11.2, 11.4, 11.6, 11.8, 12. , 12.2, 12.4, 12.6, 12.8, 13. , 13.2,\n",
       "       13.4, 13.6, 13.8, 14. , 14.2, 14.4, 14.6, 14.8, 15. , 15.2, 15.4,\n",
       "       15.6, 15.8, 16. , 16.2, 16.4, 16.6, 16.8, 17. , 17.2, 17.4, 17.6,\n",
       "       17.8, 18. , 18.2, 18.4, 18.6, 18.8, 19. , 19.2, 19.4, 19.6, 19.8,\n",
       "       20. ]) * msecond>"
      ]
     },
     "execution_count": 19,
     "metadata": {},
     "output_type": "execute_result"
    }
   ],
   "source": [
    "insyn.delay"
   ]
  },
  {
   "cell_type": "code",
   "execution_count": null,
   "metadata": {
    "collapsed": true
   },
   "outputs": [],
   "source": []
  }
 ],
 "metadata": {
  "jupytext_formats": "ipynb,py",
  "kernelspec": {
   "display_name": "Python 3",
   "language": "python",
   "name": "python3"
  },
  "language_info": {
   "codemirror_mode": {
    "name": "ipython",
    "version": 3
   },
   "file_extension": ".py",
   "mimetype": "text/x-python",
   "name": "python",
   "nbconvert_exporter": "python",
   "pygments_lexer": "ipython3",
   "version": "3.6.0"
  }
 },
 "nbformat": 4,
 "nbformat_minor": 2
}
