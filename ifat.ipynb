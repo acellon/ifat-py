{
 "cells": [
  {
   "cell_type": "markdown",
   "metadata": {},
   "source": [
    "# Development Notebook for IFAT Simulator"
   ]
  },
  {
   "cell_type": "code",
   "execution_count": 1,
   "metadata": {},
   "outputs": [],
   "source": [
    "from brian2 import *\n",
    "import matplotlib.pyplot as plt\n",
    "\n",
    "%matplotlib inline"
   ]
  },
  {
   "cell_type": "code",
   "execution_count": 2,
   "metadata": {},
   "outputs": [],
   "source": [
    "MODE = 'adaptive'"
   ]
  },
  {
   "cell_type": "code",
   "execution_count": 3,
   "metadata": {},
   "outputs": [],
   "source": [
    "# Define various equations\n",
    "\n",
    "if MODE == 'adaptive':\n",
    "    neuron_eq = '''\n",
    "        # dVm/dt = ((glm + parasitic) / Cm) * (Vm_r - Vm) : volt\n",
    "        dVm/dt = (glm / Cm) * (Vm_r - Vm) : volt\n",
    "        dVt/dt = (glt / Ct) * (Vt_r - Vt) : volt\n",
    "\n",
    "        glm = flm * Cl                    : siemens\n",
    "        glt = flt * Cl                    : siemens\n",
    "        # parasitic = 1.0 / parasitic_leak_time * Cm\n",
    "    '''\n",
    "    reset_eq = '''\n",
    "        Vm = Vm_r\n",
    "        Vt = Vt * (Vt > Vm) + Vt_r * (Vt <= Vm)\n",
    "    '''\n",
    "    presyn_eq = '''\n",
    "        Vm_old = Vm\n",
    "        Vm = Vm_old + Vsyn\n",
    "        Vt += (Cst/Ct) * (Vm_old - Vm_r)\n",
    "    '''\n",
    "else:\n",
    "    neuron_eq = '''\n",
    "        dVm/dt = (glm / Cm) * (Vm_r - Vm) : volt\n",
    "\n",
    "        glm = flm * Cl                    : siemens\n",
    "    '''\n",
    "    reset_eq = '''\n",
    "        Vm = Vm_r\n",
    "    '''\n",
    "    presyn_eq = '''\n",
    "        Vm_old = Vm\n",
    "        Vm = Vm_old + Vsyn\n",
    "    '''\n",
    "\n",
    "# Synapse equation is the same for both modes!\n",
    "syn_eq = '''\n",
    "    Vsyn = (W/Cm)*(Em - Vm) : volt\n",
    "    Em                      : volt\n",
    "    W                       : farad\n",
    "'''"
   ]
  },
  {
   "cell_type": "code",
   "execution_count": 4,
   "metadata": {},
   "outputs": [],
   "source": [
    "# IFAT specific definitions\n",
    "Vdd = 5 * volt\n",
    "Cm = Ct = 0.44 * pF\n",
    "Cl = 0.02 * pF\n",
    "\n",
    "W_vals  = np.array([5, 10, 20, 40, 80]) * 0.001 * pF\n",
    "Em_vals = np.array([0, 1/3, 2/3, 1]) * Vdd"
   ]
  },
  {
   "cell_type": "code",
   "execution_count": 19,
   "metadata": {},
   "outputs": [],
   "source": [
    "# Model parameters\n",
    "Vm_r = 1 * volt\n",
    "flm  = 0 * kHz\n",
    "Csm  = W_vals[0]\n",
    "\n",
    "Vt_r = 3 * volt\n",
    "flt  = 0.2 * MHz\n",
    "Cst  = 0 * pF\n",
    "\n",
    "N = 4"
   ]
  },
  {
   "cell_type": "code",
   "execution_count": 20,
   "metadata": {},
   "outputs": [],
   "source": [
    "start_scope()"
   ]
  },
  {
   "cell_type": "code",
   "execution_count": 21,
   "metadata": {},
   "outputs": [],
   "source": [
    "# Start stuff up, brochacho\n",
    "test = NeuronGroup(N, neuron_eq, threshold='Vm > Vt', reset=reset_eq, method='exact')\n",
    "test.Vm = Vm_r\n",
    "test.Vt = Vt_r"
   ]
  },
  {
   "cell_type": "code",
   "execution_count": 22,
   "metadata": {},
   "outputs": [],
   "source": [
    "in_spk_times = np.arange(0,1,0.01) * second\n",
    "in_spk_inds  = np.zeros_like(in_spk_times)\n",
    "spgen = SpikeGeneratorGroup(1,in_spk_inds,in_spk_times)"
   ]
  },
  {
   "cell_type": "code",
   "execution_count": 23,
   "metadata": {},
   "outputs": [],
   "source": [
    "insyn = Synapses(spgen, test, syn_eq, on_pre=presyn_eq)\n",
    "insyn.connect()\n",
    "insyn.delay = \"j * 0.2 * us\"\n",
    "insyn.Em = Em_vals[-1]\n",
    "insyn.W = sum(W_vals)"
   ]
  },
  {
   "cell_type": "code",
   "execution_count": 24,
   "metadata": {},
   "outputs": [
    {
     "data": {
      "image/png": "[encoded data removed]",
      "text/plain": [
       "<matplotlib.figure.Figure at 0x7f4e26a09f98>"
      ]
     },
     "metadata": {},
     "output_type": "display_data"
    }
   ],
   "source": [
    "def visualise_connectivity(S):\n",
    "    Ns = len(S.source)\n",
    "    Nt = len(S.target)\n",
    "    figure(figsize=(10, 4))\n",
    "    subplot(121)\n",
    "    plot(zeros(Ns), arange(Ns), 'ok', ms=10)\n",
    "    plot(ones(Nt), arange(Nt), 'ok', ms=10)\n",
    "    for i, j in zip(S.i, S.j):\n",
    "        plot([0, 1], [i, j], '-k')\n",
    "    xticks([0, 1], ['Source', 'Target'])\n",
    "    ylabel('Neuron index')\n",
    "    xlim(-0.1, 1.1)\n",
    "    ylim(-1, max(Ns, Nt))\n",
    "    subplot(122)\n",
    "    plot(S.i, S.j, 'ok')\n",
    "    xlim(-1, Ns)\n",
    "    ylim(-1, Nt)\n",
    "    xlabel('Source neuron index')\n",
    "    ylabel('Target neuron index')\n",
    "\n",
    "visualise_connectivity(insyn)\n"
   ]
  },
  {
   "cell_type": "code",
   "execution_count": 25,
   "metadata": {},
   "outputs": [],
   "source": [
    "# insyn = Synapses(spgen, test, syn_eq, on_pre=presyn_eq, multisynaptic_index='k')\n",
    "# insyn.connect(i=0,j=0,n=100)\n",
    "# insyn.delay='0.2*us+k*0.2*us'\n",
    "# insyn.Em = Em_vals[1]\n",
    "# insyn.W = Csm"
   ]
  },
  {
   "cell_type": "code",
   "execution_count": 26,
   "metadata": {
    "lines_to_next_cell": 0
   },
   "outputs": [],
   "source": [
    "# exc_syn = Synapses(test, test, syn_eq, on_pre=presyn_eq)\n",
    "# exc_syn.connect('j==((i+1)%6)')\n",
    "# exc_syn.Em = '4*volt'\n",
    "# exc_syn.W = 30 * Csm"
   ]
  },
  {
   "cell_type": "code",
   "execution_count": 27,
   "metadata": {},
   "outputs": [],
   "source": [
    "sp_mon = SpikeMonitor(test)\n",
    "vm_mon = StateMonitor(test, 'Vm', record=True)\n",
    "vt_mon = StateMonitor(test, 'Vt', record=True)"
   ]
  },
  {
   "cell_type": "code",
   "execution_count": 28,
   "metadata": {
    "scrolled": true
   },
   "outputs": [
    {
     "name": "stderr",
     "output_type": "stream",
     "text": [
      "WARNING    Came across an abstract code block that may not be well-defined: the outcome may depend on the order of execution. You can ignore this warning if you are sure that the order of operations does not matter. 5 lines of abstract code, first line is: \"Vm_old := Vm (constant)\"\n",
      " [brian2.codegen.generators.base]\n"
     ]
    }
   ],
   "source": [
    "run(1*second)"
   ]
  },
  {
   "cell_type": "code",
   "execution_count": 29,
   "metadata": {
    "scrolled": true
   },
   "outputs": [
    {
     "data": {
      "image/png": "[encoded data removed]",
      "text/plain": [
       "<matplotlib.figure.Figure at 0x7f4e271feac8>"
      ]
     },
     "metadata": {},
     "output_type": "display_data"
    }
   ],
   "source": [
    "for i in range(N):\n",
    "    plot(vm_mon.t, vm_mon.Vm[i],vt_mon.t, vt_mon.Vt[i])"
   ]
  },
  {
   "cell_type": "code",
   "execution_count": 30,
   "metadata": {
    "scrolled": true
   },
   "outputs": [
    {
     "data": {
      "text/plain": [
       "(0, 0.01)"
      ]
     },
     "execution_count": 30,
     "metadata": {},
     "output_type": "execute_result"
    },
    {
     "data": {
      "image/png": "[encoded data removed]",
      "text/plain": [
       "<matplotlib.figure.Figure at 0x7f4e2793a5f8>"
      ]
     },
     "metadata": {},
     "output_type": "display_data"
    }
   ],
   "source": [
    "plot(vm_mon.t, vm_mon.Vm[0],vt_mon.t, vt_mon.Vt[0]); xlim([0,0.01])"
   ]
  },
  {
   "cell_type": "code",
   "execution_count": 17,
   "metadata": {
    "scrolled": true
   },
   "outputs": [
    {
     "ename": "NameError",
     "evalue": "name 'vmon' is not defined",
     "output_type": "error",
     "traceback": [
      "\u001b[0;31m---------------------------------------------------------------------------\u001b[0m",
      "\u001b[0;31mNameError\u001b[0m                                 Traceback (most recent call last)",
      "\u001b[0;32m<ipython-input-17-61421a17a12f>\u001b[0m in \u001b[0;36m<module>\u001b[0;34m()\u001b[0m\n\u001b[1;32m      1\u001b[0m \u001b[0;32mfor\u001b[0m \u001b[0mi\u001b[0m \u001b[0;32min\u001b[0m \u001b[0mrange\u001b[0m\u001b[0;34m(\u001b[0m\u001b[0;36m6\u001b[0m\u001b[0;34m)\u001b[0m\u001b[0;34m:\u001b[0m\u001b[0;34m\u001b[0m\u001b[0m\n\u001b[0;32m----> 2\u001b[0;31m     \u001b[0mplot\u001b[0m\u001b[0;34m(\u001b[0m\u001b[0mvmon\u001b[0m\u001b[0;34m.\u001b[0m\u001b[0mt\u001b[0m\u001b[0;34m,\u001b[0m \u001b[0mvmon\u001b[0m\u001b[0;34m.\u001b[0m\u001b[0mVmem\u001b[0m\u001b[0;34m[\u001b[0m\u001b[0mi\u001b[0m\u001b[0;34m]\u001b[0m\u001b[0;34m)\u001b[0m\u001b[0;34m\u001b[0m\u001b[0m\n\u001b[0m\u001b[1;32m      3\u001b[0m \u001b[0;34m\u001b[0m\u001b[0m\n\u001b[1;32m      4\u001b[0m \u001b[0mxlim\u001b[0m\u001b[0;34m(\u001b[0m\u001b[0;34m[\u001b[0m\u001b[0;36m0.098\u001b[0m\u001b[0;34m,\u001b[0m\u001b[0;36m0.102\u001b[0m\u001b[0;34m]\u001b[0m\u001b[0;34m)\u001b[0m\u001b[0;34m\u001b[0m\u001b[0m\n",
      "\u001b[0;31mNameError\u001b[0m: name 'vmon' is not defined"
     ]
    }
   ],
   "source": [
    "for i in range(6):\n",
    "    plot(vmon.t, vmon.Vmem[i])\n",
    "    \n",
    "xlim([0.098,0.102])"
   ]
  },
  {
   "cell_type": "code",
   "execution_count": null,
   "metadata": {},
   "outputs": [],
   "source": [
    "plot(mon.t, mon.i,'.'); xlim([0.099,0.11])"
   ]
  },
  {
   "cell_type": "code",
   "execution_count": null,
   "metadata": {},
   "outputs": [],
   "source": [
    "insyn"
   ]
  },
  {
   "cell_type": "code",
   "execution_count": null,
   "metadata": {},
   "outputs": [],
   "source": [
    "insyn.delay"
   ]
  },
  {
   "cell_type": "code",
   "execution_count": null,
   "metadata": {},
   "outputs": [],
   "source": []
  }
 ],
 "metadata": {
  "jupytext_formats": "ipynb,py",
  "kernelspec": {
   "display_name": "Python 3",
   "language": "python",
   "name": "python3"
  },
  "language_info": {
   "codemirror_mode": {
    "name": "ipython",
    "version": 3
   },
   "file_extension": ".py",
   "mimetype": "text/x-python",
   "name": "python",
   "nbconvert_exporter": "python",
   "pygments_lexer": "ipython3",
   "version": "3.6.4"
  }
 },
 "nbformat": 4,
 "nbformat_minor": 2
}
