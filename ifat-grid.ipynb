{
 "cells": [
  {
   "cell_type": "code",
   "execution_count": 1,
   "metadata": {},
   "outputs": [],
   "source": [
    "from brian2 import *\n",
    "import matplotlib.pyplot as plt\n",
    "\n",
    "%matplotlib inline"
   ]
  },
  {
   "cell_type": "code",
   "execution_count": 2,
   "metadata": {},
   "outputs": [],
   "source": [
    "def calc_weight(M, alpha, mu, sigma):\n",
    "    output = zeros((M,M))\n",
    "    for i in np.arange(M):\n",
    "        for j in np.arange(M):\n",
    "            output[i,j] = exp(cos((2*pi*i/M) - (2*pi*j/M) - mu)/sigma**2)\n",
    "    output = output * (alpha/np.max(output))\n",
    "    output = 5.0 * fF * np.around(output/(5.0*fF))\n",
    "    return output"
   ]
  },
  {
   "cell_type": "code",
   "execution_count": 3,
   "metadata": {},
   "outputs": [],
   "source": [
    "def calc_weight_grid(M, alpha, mu, sigma):\n",
    "    output = zeros((M))\n",
    "    for i in np.arange(M):\n",
    "        output[i] = exp(cos((2*pi*i/M) - mu)/sigma**2)\n",
    "    output = output * (alpha/np.max(output))\n",
    "    output = 5.0 * fF * np.around(output/(5.0*fF))\n",
    "    return output"
   ]
  },
  {
   "cell_type": "code",
   "execution_count": 4,
   "metadata": {},
   "outputs": [],
   "source": [
    "MODE = 'adaptive'\n",
    "PARASITICS = True"
   ]
  },
  {
   "cell_type": "code",
   "execution_count": 5,
   "metadata": {},
   "outputs": [],
   "source": [
    "# Define various equations\n",
    "\n",
    "if MODE == 'adaptive':\n",
    "    neuron_eq = '''\n",
    "        dVm/dt = ((glm + gpar) / Cm) * (Vm_r - Vm)  : volt\n",
    "        dVt/dt = ((glt + gpar) / Ct) * (Vt_r - Vt)  : volt\n",
    "        \n",
    "        # dVm/dt = (glm / Cm) * (Vm_r - Vm) : volt\n",
    "        # dVt/dt = (glt / Ct) * (Vt_r - Vt) : volt\n",
    "\n",
    "        glm = flm * Cl                              : siemens\n",
    "        glt = flt * Cl                              : siemens\n",
    "        gpar = par_ctrl / par_leak_time * Cm : siemens\n",
    "    '''\n",
    "    reset_eq = '''\n",
    "        Vm = Vm_r\n",
    "        Vt = Vt * (Vt > Vm) + Vt_r * (Vt <= Vm)\n",
    "    '''\n",
    "    presyn_eq = '''\n",
    "        Vm_old = Vm\n",
    "        Vm = Vm_old + Vsyn\n",
    "        Vt += (Cst/Ct) * (Vm_old - Vm_r)\n",
    "    '''\n",
    "else:\n",
    "    neuron_eq = '''\n",
    "        dVm/dt = (glm / Cm) * (Vm_r - Vm) : volt\n",
    "\n",
    "        glm = flm * Cl                    : siemens\n",
    "    '''\n",
    "    reset_eq = '''\n",
    "        Vm = Vm_r\n",
    "    '''\n",
    "    presyn_eq = '''\n",
    "        Vm_old = Vm\n",
    "        Vm = Vm_old + Vsyn\n",
    "    '''\n",
    "\n",
    "# Synapse equation is the same for both modes!\n",
    "syn_eq = '''\n",
    "    Vsyn = (W/Cm)*(Em - Vm) : volt\n",
    "    Em                      : volt\n",
    "    W                       : farad\n",
    "'''"
   ]
  },
  {
   "cell_type": "code",
   "execution_count": 6,
   "metadata": {},
   "outputs": [],
   "source": [
    "# IFAT specific definitions\n",
    "fF = 0.001 * pF\n",
    "Vdd = 5 * volt\n",
    "Cm = Ct = 440 * fF\n",
    "Cl = 2 * fF\n",
    "\n",
    "W_vals  = np.array([5, 10, 20, 40, 80]) * fF\n",
    "Em_vals = np.array([0, 1/3, 2/3, 1]) * Vdd\n",
    "\n",
    "par_ctrl = float(PARASITICS)\n",
    "par_leak_time = 12.5 * ms"
   ]
  },
  {
   "cell_type": "code",
   "execution_count": 7,
   "metadata": {},
   "outputs": [],
   "source": [
    "# Model parameters\n",
    "Vm_r = 1 * volt\n",
    "flm  = 0 * kHz\n",
    "Csm  = W_vals[0]\n",
    "\n",
    "Vt_r = 3.5 * volt\n",
    "flt  = 0 * MHz\n",
    "Cst  = 0 * fF\n",
    "\n",
    "M = 64"
   ]
  },
  {
   "cell_type": "code",
   "execution_count": 8,
   "metadata": {},
   "outputs": [],
   "source": [
    "# Connectivity specifics\n",
    "alpha = sum(W_vals)\n",
    "mu1 = 0\n",
    "mu2 = 2*pi/3\n",
    "mu3 = pi\n",
    "sigma = 36 * pi/180"
   ]
  },
  {
   "cell_type": "code",
   "execution_count": 9,
   "metadata": {},
   "outputs": [],
   "source": [
    "# Preferred direction for cell\n",
    "theta1 = 0\n",
    "theta2 = theta1 + 2*pi/3\n",
    "theta3 = theta2 + 2*pi/3\n",
    "lam = 0.01 # meters\n",
    "d1 = lam * np.asarray([cos(theta1),sin(theta1)])\n",
    "d2 = lam * np.asarray([cos(theta2),sin(theta2)])\n",
    "d3 = lam * np.asarray([cos(theta3),sin(theta3)])"
   ]
  },
  {
   "cell_type": "code",
   "execution_count": 10,
   "metadata": {},
   "outputs": [],
   "source": [
    "def timedrandwalk(v=5, dt=0.001*second, time=10*second, size=5):\n",
    "    nsteps = int(time/dt)\n",
    "    rwpath = np.zeros([nsteps,2])\n",
    "    rwvel  = np.zeros([nsteps,2])\n",
    "    vel = v*np.random.random()\n",
    "    theta=math.pi*np.random.random()\n",
    "    dx = vel*math.cos(theta)\n",
    "    dy = vel*math.sin(theta)\n",
    "    rwpath[1,:] = [dx, dy]\n",
    "    rwvel[1,:] = [dx, dy]\n",
    "    for step in np.arange(2,nsteps):\n",
    "        if (step % 10*ms/dt):\n",
    "            rwpath[step,:] = rwpath[step-1,:]\n",
    "        else:\n",
    "            while (np.abs(rwpath[step,:])>=(size/2.)).any():\n",
    "                vel = v*np.random.random()\n",
    "                theta=math.pi*np.random.random()\n",
    "                dx = vel*math.cos(theta)\n",
    "                dy = vel*math.sin(theta)\n",
    "                rwpath[step,:] = rwpath[step-1,:] + [dx, dy]\n",
    "                rwvel[step,:] = [dx, dy]\n",
    "                \n",
    "    return rwpath, rwvel"
   ]
  },
  {
   "cell_type": "code",
   "execution_count": 11,
   "metadata": {},
   "outputs": [],
   "source": [
    "def timedrandwalk2(v=5, dt=1*ms, time=10*second, size=5):\n",
    "    nsteps = int(time/dt)\n",
    "    rwpath = np.ones([nsteps,2]) * size/2.\n",
    "    rwvel  = np.zeros([nsteps,2])\n",
    "    for step in np.arange(1,nsteps):\n",
    "            while (np.abs(rwpath[step,:])>=(size/2.)).any():\n",
    "                vel = v*np.random.random()\n",
    "                theta=2*math.pi*np.random.random()\n",
    "                dx = vel*math.cos(theta)\n",
    "                dy = vel*math.sin(theta)\n",
    "                rwpath[step,:] = rwpath[step-1,:] + [dx, dy]\n",
    "                rwvel[step,:] = [dx, dy]\n",
    "    return rwpath, rwvel"
   ]
  },
  {
   "cell_type": "code",
   "execution_count": 12,
   "metadata": {},
   "outputs": [],
   "source": [
    "path, vel = timedrandwalk(v=0.1,dt=defaultclock.dt,time=10*second,size=3)"
   ]
  },
  {
   "cell_type": "code",
   "execution_count": 13,
   "metadata": {
    "scrolled": true
   },
   "outputs": [
    {
     "data": {
      "text/plain": [
       "[<matplotlib.lines.Line2D at 0x11f9b65c0>]"
      ]
     },
     "execution_count": 13,
     "metadata": {},
     "output_type": "execute_result"
    },
    {
     "data": {
      "image/png": "[encoded data removed]",
      "text/plain": [
       "<Figure size 432x288 with 1 Axes>"
      ]
     },
     "metadata": {
      "needs_background": "light"
     },
     "output_type": "display_data"
    }
   ],
   "source": [
    "plot(path[:,0],path[:,1])"
   ]
  },
  {
   "cell_type": "code",
   "execution_count": 14,
   "metadata": {},
   "outputs": [
    {
     "name": "stderr",
     "output_type": "stream",
     "text": [
      "clang: warning: libstdc++ is deprecated; move to libc++ with a minimum deployment target of OS X 10.9 [-Wdeprecated]\n",
      "ld: library not found for -lstdc++\n",
      "clang: error: linker command failed with exit code 1 (use -v to see invocation)\n",
      "WARNING    Cannot use Cython, a test compilation failed: command 'g++' failed with exit status 1 (LinkError) [brian2.codegen.runtime.cython_rt.cython_rt.failed_compile_test]\n",
      "INFO       Cannot use compiled code, falling back to the numpy code generation target. Note that this will likely be slower than using compiled code. Set the code generation to numpy manually to avoid this message:\n",
      "prefs.codegen.target = \"numpy\" [brian2.devices.device.codegen_fallback]\n"
     ]
    }
   ],
   "source": [
    "start_scope()\n",
    "\n",
    "blair_exc = NeuronGroup(M, neuron_eq, threshold='Vm>Vt', reset=reset_eq, method='exact')\n",
    "blair_exc.Vt = Vt_r\n",
    "blair_exc.Vm = Vm_r\n",
    "\n",
    "blair_inh = NeuronGroup(M, neuron_eq, threshold='Vm>Vt', reset=reset_eq, method='exact')\n",
    "blair_inh.Vt = Vt_r\n",
    "blair_inh.Vm = Vm_r\n",
    "\n",
    "exc2inh = Synapses(blair_exc, blair_inh, syn_eq, on_pre=presyn_eq)\n",
    "exc2inh.connect()\n",
    "exc2inh.Em = Em_vals[3]\n",
    "exc2inh.W = calc_weight(M,alpha,mu1,sigma).flatten()\n",
    "\n",
    "inh2exc = Synapses(blair_inh, blair_exc, syn_eq, on_pre=presyn_eq)\n",
    "inh2exc.connect()\n",
    "inh2exc.Em = Em_vals[0]\n",
    "inh2exc.W  = calc_weight(M,alpha,mu2,sigma).flatten()\n",
    "\n",
    "inh2inh = Synapses(blair_inh, blair_inh, syn_eq, on_pre=presyn_eq)\n",
    "inh2inh.connect()\n",
    "inh2inh.Em = Em_vals[0]\n",
    "inh2inh.W = calc_weight(M,alpha,mu1,sigma).flatten()\n",
    "\n",
    "prates = '(3 + 20*veldot(t))*kHz'\n",
    "PoisIn = PoissonGroup(M,rates=prates)\n",
    "p2exc = Synapses(PoisIn, blair_exc, syn_eq, on_pre=presyn_eq)\n",
    "p2exc.connect('j==i')\n",
    "p2exc.Em = Em_vals[3]\n",
    "p2exc.W = W_vals[2] + W_vals[0]# + W_vals[0]\n",
    "\n",
    "i_spmon = SpikeMonitor(blair_inh)\n",
    "e_spmon = SpikeMonitor(blair_exc)\n",
    "e_vmon = StateMonitor(blair_exc, 'Vm', record=True)\n",
    "inrate = PopulationRateMonitor(PoisIn)\n",
    "erate00 = PopulationRateMonitor(blair_exc[:1])\n",
    "erate15 = PopulationRateMonitor(blair_exc[15:16])\n",
    "erate31 = PopulationRateMonitor(blair_exc[31:32])\n",
    "erate47 = PopulationRateMonitor(blair_exc[47:48])\n",
    "ratecheck = StateMonitor(PoisIn, 'rates',record=True)\n",
    "\n",
    "store()"
   ]
  },
  {
   "cell_type": "code",
   "execution_count": null,
   "metadata": {},
   "outputs": [],
   "source": [
    "veldot = TimedArray(np.dot(vel,d1),dt=defaultclock.dt)\n",
    "BrianLogger.suppress_hierarchy('brian2.codegen.generators.base')\n",
    "restore()\n",
    "run(10*second)"
   ]
  },
  {
   "cell_type": "code",
   "execution_count": null,
   "metadata": {},
   "outputs": [],
   "source": [
    "plot(ratecheck.t/second, ratecheck.rates[0]/kHz)"
   ]
  },
  {
   "cell_type": "code",
   "execution_count": null,
   "metadata": {},
   "outputs": [],
   "source": [
    "path, vel = timedrandwalk2(v=0.01,dt=5*ms,time=50*second,size=0.5)"
   ]
  },
  {
   "cell_type": "code",
   "execution_count": null,
   "metadata": {},
   "outputs": [],
   "source": [
    "plot(path[:,0],path[:,1])"
   ]
  },
  {
   "cell_type": "code",
   "execution_count": null,
   "metadata": {},
   "outputs": [],
   "source": [
    "veldot1 = TimedArray(np.dot(vel,d1),dt=10*ms)\n",
    "veldot2 = TimedArray(np.dot(vel,d2),dt=10*ms)\n",
    "veldot3 = TimedArray(np.dot(vel,d3),dt=10*ms)"
   ]
  },
  {
   "cell_type": "code",
   "execution_count": null,
   "metadata": {},
   "outputs": [],
   "source": [
    "start_scope()\n",
    "\n",
    "G1 = NeuronGroup(2*M, neuron_eq, threshold='Vm>Vt', reset=reset_eq, method='exact')\n",
    "G1.Vt = Vt_r\n",
    "G1.Vm = Vm_r\n",
    "G1_exc = G1[:M]\n",
    "G1_inh = G1[M:]\n",
    "\n",
    "G1_e2i = Synapses(G1_exc, G1_inh, syn_eq, on_pre=presyn_eq)\n",
    "G1_e2i.connect()\n",
    "G1_e2i.Em = Em_vals[3]\n",
    "G1_e2i.W = calc_weight(M,alpha,mu1,sigma).flatten()\n",
    "\n",
    "G1_i2e = Synapses(G1_inh, G1_exc, syn_eq, on_pre=presyn_eq)\n",
    "G1_i2e.connect()\n",
    "G1_i2e.Em = Em_vals[0]\n",
    "G1_i2e.W = calc_weight(M,alpha,mu2,sigma).flatten()\n",
    "\n",
    "G1_i2i = Synapses(G1_inh, G1_inh, syn_eq, on_pre=presyn_eq)\n",
    "G1_i2i.connect()\n",
    "G1_i2i.Em = Em_vals[0]\n",
    "G1_i2i.W = calc_weight(M,alpha,mu1,sigma).flatten()\n",
    "\n",
    "P1_rates = '(3 + 10000*veldot1(t))*kHz'\n",
    "P1 = PoissonGroup(M,rates=P1_rates)\n",
    "P1_syn = Synapses(P1, G1_exc, syn_eq, on_pre=presyn_eq)\n",
    "P1_syn.connect('j==i')\n",
    "P1_syn.Em = Em_vals[3]\n",
    "P1_syn.W = W_vals[2] + W_vals[0]\n",
    "\n",
    "G1e_sp = SpikeMonitor(G1_exc)\n",
    "P1_rate = StateMonitor(P1, 'rates',record=True)\n",
    "\n",
    "G2 = NeuronGroup(2*M, neuron_eq, threshold='Vm>Vt', reset=reset_eq, method='exact')\n",
    "G2.Vt = Vt_r\n",
    "G2.Vm = Vm_r\n",
    "G2_exc = G2[:M]\n",
    "G2_inh = G2[M:]\n",
    "\n",
    "G2_e2i = Synapses(G2_exc, G2_inh, syn_eq, on_pre=presyn_eq)\n",
    "G2_e2i.connect()\n",
    "G2_e2i.Em = Em_vals[3]\n",
    "G2_e2i.W = calc_weight(M,alpha,mu1,sigma).flatten()\n",
    "\n",
    "G2_i2e = Synapses(G2_inh, G2_exc, syn_eq, on_pre=presyn_eq)\n",
    "G2_i2e.connect()\n",
    "G2_i2e.Em = Em_vals[0]\n",
    "G2_i2e.W = calc_weight(M,alpha,mu2,sigma).flatten()\n",
    "\n",
    "G2_i2i = Synapses(G2_inh, G2_inh, syn_eq, on_pre=presyn_eq)\n",
    "G2_i2i.connect()\n",
    "G2_i2i.Em = Em_vals[0]\n",
    "G2_i2i.W = calc_weight(M,alpha,mu1,sigma).flatten()\n",
    "\n",
    "P2_rates = '(3 + 10000*veldot2(t))*kHz'\n",
    "P2 = PoissonGroup(M,rates=P2_rates)\n",
    "P2_syn = Synapses(P2, G2_exc, syn_eq, on_pre=presyn_eq)\n",
    "P2_syn.connect('j==i')\n",
    "P2_syn.Em = Em_vals[3]\n",
    "P2_syn.W = W_vals[2] + W_vals[0]\n",
    "\n",
    "G2e_sp = SpikeMonitor(G2_exc)\n",
    "P2_rate = StateMonitor(P2, 'rates',record=True)\n",
    "\n",
    "G3 = NeuronGroup(2*M, neuron_eq, threshold='Vm>Vt', reset=reset_eq, method='exact')\n",
    "G3.Vt = Vt_r\n",
    "G3.Vm = Vm_r\n",
    "G3_exc = G3[:M]\n",
    "G3_inh = G3[M:]\n",
    "\n",
    "G3_e2i = Synapses(G3_exc, G3_inh, syn_eq, on_pre=presyn_eq)\n",
    "G3_e2i.connect()\n",
    "G3_e2i.Em = Em_vals[3]\n",
    "G3_e2i.W = calc_weight(M,alpha,mu1,sigma).flatten()\n",
    "\n",
    "G3_i2e = Synapses(G3_inh, G3_exc, syn_eq, on_pre=presyn_eq)\n",
    "G3_i2e.connect()\n",
    "G3_i2e.Em = Em_vals[0]\n",
    "G3_i2e.W = calc_weight(M,alpha,mu2,sigma).flatten()\n",
    "\n",
    "G3_i2i = Synapses(G3_inh, G3_inh, syn_eq, on_pre=presyn_eq)\n",
    "G3_i2i.connect()\n",
    "G3_i2i.Em = Em_vals[0]\n",
    "G3_i2i.W = calc_weight(M,alpha,mu1,sigma).flatten()\n",
    "\n",
    "P3_rates = '(3 + 10000*veldot3(t))*kHz'\n",
    "P3 = PoissonGroup(M,rates=P3_rates)\n",
    "P3_syn = Synapses(P3, G3_exc, syn_eq, on_pre=presyn_eq)\n",
    "P3_syn.connect('j==i')\n",
    "P3_syn.Em = Em_vals[3]\n",
    "P3_syn.W = W_vals[2] + W_vals[0]\n",
    "\n",
    "G3e_sp = SpikeMonitor(G3_exc)\n",
    "P3_rate = StateMonitor(P3, 'rates',record=True)\n",
    "\n",
    "GRID = NeuronGroup(3, neuron_eq, threshold='Vm>Vt', reset=reset_eq, method='exact')\n",
    "GRID.Vt = Vt_r\n",
    "GRID.Vm = Vm_r\n",
    "GRID0 = GRID[:1]\n",
    "GRID1 = GRID[1:2]\n",
    "GRID2 = GRID[2:]\n",
    "\n",
    "G1_GRID0 = Synapses(G1_exc, GRID0, syn_eq, on_pre=presyn_eq)\n",
    "G1_GRID0.connect()\n",
    "G1_GRID0.Em = Em_vals[3]\n",
    "G1_GRID0.W = calc_weight_grid(M, alpha/3, 0, sigma)\n",
    "\n",
    "G2_GRID0 = Synapses(G2_inh, GRID0, syn_eq, on_pre=presyn_eq)\n",
    "G2_GRID0.connect()\n",
    "G2_GRID0.Em = Em_vals[0]\n",
    "G2_GRID0.W = calc_weight_grid(M, alpha/3, pi, sigma)\n",
    "\n",
    "G3_GRID0 = Synapses(G3_exc, GRID0, syn_eq, on_pre=presyn_eq)\n",
    "G3_GRID0.connect()\n",
    "G3_GRID0.Em = Em_vals[3]\n",
    "G3_GRID0.W = calc_weight_grid(M, alpha/3, 0, sigma)\n",
    "\n",
    "GRID_sp = SpikeMonitor(GRID)\n",
    "GRID_v = StateMonitor(GRID, 'Vm', record=True)\n",
    "\n",
    "\n",
    "store()"
   ]
  },
  {
   "cell_type": "code",
   "execution_count": null,
   "metadata": {},
   "outputs": [],
   "source": [
    "run(50*second,report='text')"
   ]
  },
  {
   "cell_type": "code",
   "execution_count": null,
   "metadata": {},
   "outputs": [],
   "source": [
    "plot(P1_rate.t/second, P1_rate.rates[0]/kHz,\n",
    "     P2_rate.t/second, P2_rate.rates[0]/kHz,\n",
    "     P3_rate.t/second, P3_rate.rates[0]/kHz)\n",
    "xlim([4,5])"
   ]
  },
  {
   "cell_type": "code",
   "execution_count": null,
   "metadata": {
    "scrolled": true
   },
   "outputs": [],
   "source": [
    "plot(G1e_sp.t/second, G1e_sp.i,'.C0',\n",
    "     G2e_sp.t/second, G2e_sp.i,'.C1',\n",
    "     G3e_sp.t/second, G3e_sp.i,'.C2',\n",
    "     GRID_sp.t/second, GRID_sp.i-5,'+C3')\n",
    "#xlim([33.2,33.4])\n",
    "xlim([4,4.25])"
   ]
  },
  {
   "cell_type": "code",
   "execution_count": null,
   "metadata": {},
   "outputs": [],
   "source": [
    "plot(GRID_v.t/second, GRID_v.Vm[0]/volt)\n",
    "scatter(GRID_sp.t[GRID_sp.i==0]/second,3.8*ones(len(GRID_sp.t[GRID_sp.i==0])),marker='+',color='r')\n",
    "xlim([4,4.5])"
   ]
  },
  {
   "cell_type": "code",
   "execution_count": null,
   "metadata": {},
   "outputs": [],
   "source": [
    "times = np.zeros_like(path[:,0])\n",
    "times[np.array(GRID_sp.t/(10*ms),dtype=int)] = 1"
   ]
  },
  {
   "cell_type": "code",
   "execution_count": null,
   "metadata": {
    "scrolled": false
   },
   "outputs": [],
   "source": [
    "figure(figsize=(8,8))\n",
    "plot(path[:,0],path[:,1], zorder=1);\n",
    "scatter(path[:,0],path[:,1], s=times*4, color='r', zorder=2)"
   ]
  },
  {
   "cell_type": "code",
   "execution_count": null,
   "metadata": {
    "lines_to_next_cell": 0,
    "scrolled": false
   },
   "outputs": [],
   "source": [
    "figure(figsize=(5,5))\n",
    "plot(vel[:,0],vel[:,1],'.')"
   ]
  },
  {
   "cell_type": "code",
   "execution_count": null,
   "metadata": {
    "lines_to_next_cell": 2
   },
   "outputs": [],
   "source": []
  }
 ],
 "metadata": {
  "jupytext_formats": "ipynb,py",
  "kernelspec": {
   "display_name": "Python 3",
   "language": "python",
   "name": "python3"
  },
  "language_info": {
   "codemirror_mode": {
    "name": "ipython",
    "version": 3
   },
   "file_extension": ".py",
   "mimetype": "text/x-python",
   "name": "python",
   "nbconvert_exporter": "python",
   "pygments_lexer": "ipython3",
   "version": "3.6.6"
  }
 },
 "nbformat": 4,
 "nbformat_minor": 2
}
