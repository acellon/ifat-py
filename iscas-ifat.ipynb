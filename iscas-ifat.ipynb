{
 "cells": [
  {
   "cell_type": "markdown",
   "metadata": {},
   "source": [
    "# ISCAS Paper Work\n",
    "See `ifat.py` for synaptic connetvitiy plots"
   ]
  },
  {
   "cell_type": "code",
   "execution_count": 1,
   "metadata": {},
   "outputs": [],
   "source": [
    "from brian2 import *\n",
    "import matplotlib.pyplot as plt\n",
    "\n",
    "%matplotlib inline"
   ]
  },
  {
   "cell_type": "code",
   "execution_count": 2,
   "metadata": {},
   "outputs": [],
   "source": [
    "def visualize_connectivity(S):\n",
    "    Ns = len(S.source)\n",
    "    Nt = len(S.target)\n",
    "    figure(figsize=(10, 4))\n",
    "    subplot(121)\n",
    "    plot(zeros(Ns), arange(Ns), 'ok', ms=10)\n",
    "    plot(ones(Nt), arange(Nt), 'ok', ms=10)\n",
    "    for i, j in zip(S.i, S.j):\n",
    "        plot([0, 1], [i, j], '-k')\n",
    "    xticks([0, 1], ['Source', 'Target'])\n",
    "    ylabel('Neuron index')\n",
    "    xlim(-0.1, 1.1)\n",
    "    ylim(-1, max(Ns, Nt))\n",
    "    subplot(122)\n",
    "    plot(S.i, S.j, 'ok')\n",
    "    xlim(-1, Ns)\n",
    "    ylim(-1, Nt)\n",
    "    xlabel('Source neuron index')\n",
    "    ylabel('Target neuron index')"
   ]
  },
  {
   "cell_type": "code",
   "execution_count": 3,
   "metadata": {},
   "outputs": [],
   "source": [
    "def calc_weight(M, alpha, mu, sigma):\n",
    "    output = zeros((M,M))\n",
    "    for i in np.arange(M):\n",
    "        for j in np.arange(M):\n",
    "            output[i,j] = exp(cos((2*pi*i/M) - (2*pi*j/M) - mu)/sigma**2)\n",
    "    output = output * (alpha/np.max(output))\n",
    "    output = 5.0 * fF * np.around(output/(5.0*fF))\n",
    "    return output"
   ]
  },
  {
   "cell_type": "code",
   "execution_count": 4,
   "metadata": {},
   "outputs": [],
   "source": [
    "MODE = 'adaptive'\n",
    "PARASITICS = True"
   ]
  },
  {
   "cell_type": "code",
   "execution_count": 5,
   "metadata": {},
   "outputs": [],
   "source": [
    "# Define various equations\n",
    "\n",
    "if MODE == 'adaptive':\n",
    "    neuron_eq = '''\n",
    "        dVm/dt = ((glm + gpar) / Cm) * (Vm_r - Vm)  : volt\n",
    "        dVt/dt = ((glt + gpar) / Ct) * (Vt_r - Vt)  : volt\n",
    "        \n",
    "        # dVm/dt = (glm / Cm) * (Vm_r - Vm) : volt\n",
    "        # dVt/dt = (glt / Ct) * (Vt_r - Vt) : volt\n",
    "\n",
    "        glm = flm * Cl                              : siemens\n",
    "        glt = flt * Cl                              : siemens\n",
    "        gpar = par_ctrl / par_leak_time * Cm : siemens\n",
    "    '''\n",
    "    reset_eq = '''\n",
    "        Vm = Vm_r\n",
    "        Vt = Vt * (Vt > Vm) + Vt_r * (Vt <= Vm)\n",
    "    '''\n",
    "    presyn_eq = '''\n",
    "        Vm_old = Vm\n",
    "        Vm = Vm_old + Vsyn\n",
    "        Vt += (Cst/Ct) * (Vm_old - Vm_r)\n",
    "    '''\n",
    "else:\n",
    "    neuron_eq = '''\n",
    "        dVm/dt = (glm / Cm) * (Vm_r - Vm) : volt\n",
    "\n",
    "        glm = flm * Cl                    : siemens\n",
    "    '''\n",
    "    reset_eq = '''\n",
    "        Vm = Vm_r\n",
    "    '''\n",
    "    presyn_eq = '''\n",
    "        Vm_old = Vm\n",
    "        Vm = Vm_old + Vsyn\n",
    "    '''\n",
    "\n",
    "# Synapse equation is the same for both modes!\n",
    "syn_eq = '''\n",
    "    Vsyn = (W/Cm)*(Em - Vm) : volt\n",
    "    Em                      : volt\n",
    "    W                       : farad\n",
    "'''"
   ]
  },
  {
   "cell_type": "code",
   "execution_count": 6,
   "metadata": {},
   "outputs": [],
   "source": [
    "# IFAT specific definitions\n",
    "fF = 0.001 * pF\n",
    "Vdd = 5 * volt\n",
    "Cm = Ct = 440 * fF\n",
    "Cl = 2 * fF\n",
    "\n",
    "W_vals  = np.array([5, 10, 20, 40, 80]) * fF\n",
    "Em_vals = np.array([0, 1/3, 2/3, 1]) * Vdd\n",
    "\n",
    "par_ctrl = True\n",
    "par_ctrl = float(PARASITICS)\n",
    "par_leak_time = 12.5 * ms"
   ]
  },
  {
   "cell_type": "code",
   "execution_count": 7,
   "metadata": {},
   "outputs": [],
   "source": [
    "# Model parameters\n",
    "Vm_r = 1 * volt\n",
    "flm  = 0 * kHz\n",
    "Csm  = W_vals[0]\n",
    "\n",
    "Vt_r = 3.5 * volt\n",
    "flt  = 0 * MHz\n",
    "Cst  = 0 * fF\n",
    "\n",
    "M = 64"
   ]
  },
  {
   "cell_type": "code",
   "execution_count": 8,
   "metadata": {},
   "outputs": [],
   "source": [
    "# Connectivity specifics\n",
    "alpha = sum(W_vals)\n",
    "mu1 = 0\n",
    "mu2 = 2*pi/3\n",
    "mu3 = pi\n",
    "sigma = 36 * pi/180"
   ]
  },
  {
   "cell_type": "code",
   "execution_count": null,
   "metadata": {},
   "outputs": [],
   "source": [
    "start_scope()\n",
    "\n",
    "blair_exc = NeuronGroup(M, neuron_eq, threshold='Vm>Vt', reset=reset_eq, method='exact')\n",
    "blair_exc.Vt = Vt_r\n",
    "blair_exc.Vm = Vm_r\n",
    "\n",
    "blair_inh = NeuronGroup(M, neuron_eq, threshold='Vm>Vt', reset=reset_eq, method='exact')\n",
    "blair_inh.Vt = Vt_r\n",
    "blair_inh.Vm = Vm_r"
   ]
  },
  {
   "cell_type": "code",
   "execution_count": null,
   "metadata": {},
   "outputs": [],
   "source": [
    "exc2inh = Synapses(blair_exc, blair_inh, syn_eq, on_pre=presyn_eq)\n",
    "exc2inh.connect()\n",
    "exc2inh.Em = Em_vals[3]\n",
    "exc2inh.W = calc_weight(M,alpha,mu1,sigma).flatten()\n",
    "\n",
    "inh2exc = Synapses(blair_inh, blair_exc, syn_eq, on_pre=presyn_eq)\n",
    "inh2exc.connect()\n",
    "inh2exc.Em = Em_vals[0]\n",
    "inh2exc.W  = calc_weight(M,alpha,mu2,sigma).flatten()\n",
    "\n",
    "inh2inh = Synapses(blair_inh, blair_inh, syn_eq, on_pre=presyn_eq)\n",
    "inh2inh.connect()\n",
    "inh2inh.Em = Em_vals[0]\n",
    "inh2inh.W = calc_weight(M,alpha,mu1,sigma).flatten()"
   ]
  },
  {
   "cell_type": "code",
   "execution_count": null,
   "metadata": {},
   "outputs": [],
   "source": [
    "PoisIn = PoissonGroup(M,rates=0*kHz)\n",
    "p2exc = Synapses(PoisIn, blair_exc, syn_eq, on_pre=presyn_eq)\n",
    "p2exc.connect('j==i')\n",
    "p2exc.Em = Em_vals[3]\n",
    "p2exc.W = W_vals[2] + W_vals[0]# + W_vals[0]"
   ]
  },
  {
   "cell_type": "code",
   "execution_count": null,
   "metadata": {},
   "outputs": [],
   "source": [
    "i_spmon = SpikeMonitor(blair_inh)\n",
    "e_spmon = SpikeMonitor(blair_exc)\n",
    "e_vmon = StateMonitor(blair_exc, 'Vm', record=True)\n",
    "inrate = PopulationRateMonitor(PoisIn)\n",
    "erate00 = PopulationRateMonitor(blair_exc[:1])\n",
    "erate15 = PopulationRateMonitor(blair_exc[15:16])\n",
    "erate31 = PopulationRateMonitor(blair_exc[31:32])\n",
    "erate47 = PopulationRateMonitor(blair_exc[47:48])\n",
    "ratecheck = StateMonitor(PoisIn, 'rates',record=True)\n",
    "#irate = PopulationRateMonitor(blair_inh[:1])"
   ]
  },
  {
   "cell_type": "code",
   "execution_count": null,
   "metadata": {},
   "outputs": [],
   "source": [
    "store()\n",
    "poissonRates = arange(2.0,4.0,0.1)*kHz"
   ]
  },
  {
   "cell_type": "code",
   "execution_count": null,
   "metadata": {
    "scrolled": true
   },
   "outputs": [],
   "source": [
    "#rateOuts = zeros((4,20))\n",
    "eRates00 = []; eRates00b = []; eRates00c = []\n",
    "eRates15 = []; eRates15b = []; eRates15c = []\n",
    "eRates31 = []; eRates31b = []; eRates31c = []\n",
    "eRates47 = []; eRates47b = []; eRates47c = []"
   ]
  },
  {
   "cell_type": "code",
   "execution_count": null,
   "metadata": {
    "scrolled": false
   },
   "outputs": [],
   "source": [
    "BrianLogger.suppress_hierarchy('brian2.codegen.generators.base')\n",
    "for thing in range(3):\n",
    "    for poissonRate in poissonRates:\n",
    "        restore()\n",
    "        PoisIn.rates = poissonRate\n",
    "        print(poissonRate)\n",
    "        run(8*second,report='text')\n",
    "        if thing == 0:\n",
    "            eRates00.append(erate00.smooth_rate(width=100*ms))\n",
    "            eRates15.append(erate15.smooth_rate(width=100*ms))\n",
    "            eRates31.append(erate31.smooth_rate(width=100*ms))\n",
    "            eRates47.append(erate47.smooth_rate(width=100*ms))\n",
    "        elif thing == 1:\n",
    "            eRates00b.append(erate00.smooth_rate(width=100*ms))\n",
    "            eRates15b.append(erate15.smooth_rate(width=100*ms))\n",
    "            eRates31b.append(erate31.smooth_rate(width=100*ms))\n",
    "            eRates47b.append(erate47.smooth_rate(width=100*ms))\n",
    "        else:\n",
    "            eRates00c.append(erate00.smooth_rate(width=100*ms))\n",
    "            eRates15c.append(erate15.smooth_rate(width=100*ms))\n",
    "            eRates31c.append(erate31.smooth_rate(width=100*ms))\n",
    "            eRates47c.append(erate47.smooth_rate(width=100*ms))"
   ]
  },
  {
   "cell_type": "code",
   "execution_count": null,
   "metadata": {},
   "outputs": [],
   "source": [
    "figure(figsize=(8,6))\n",
    "plot(e_spmon.t/ms, e_spmon.i,'.'); xlim([5000,5250])\n",
    "xlabel('Time (ms)')\n",
    "ylabel('Neuron index')"
   ]
  },
  {
   "cell_type": "code",
   "execution_count": null,
   "metadata": {},
   "outputs": [],
   "source": [
    "rateWidth = 1000 * ms\n",
    "plot(erate00.t/second, erate00.smooth_rate(width=rateWidth)/Hz,\n",
    "     erate15.t/second, erate15.smooth_rate(width=rateWidth)/Hz,\n",
    "     erate31.t/second, erate31.smooth_rate(width=rateWidth)/Hz,\n",
    "     erate47.t/second, erate47.smooth_rate(width=rateWidth)/Hz)\n",
    "xlim([2,6])"
   ]
  },
  {
   "cell_type": "code",
   "execution_count": null,
   "metadata": {
    "scrolled": true
   },
   "outputs": [],
   "source": [
    "idx = 32\n",
    "plot(e_vmon.t/ms-5000, e_vmon.Vm[idx]); xlim([0,250])\n",
    "scatter(e_spmon.t[e_spmon.i==idx]/ms-5000,3.65*ones(len(e_spmon.t[e_spmon.i==idx])),color='r')\n",
    "xlabel('Time (ms)')\n",
    "ylabel('Membrane Voltage (V)')"
   ]
  },
  {
   "cell_type": "code",
   "execution_count": null,
   "metadata": {},
   "outputs": [],
   "source": [
    "smooth_width = 1000*ms\n",
    "\n",
    "sig_shape = shape(eRates00)\n",
    "avgRate = zeros(sig_shape)\n",
    "avgRateB = zeros(sig_shape)\n",
    "avgRateC = zeros(sig_shape)\n",
    "\n",
    "for i in range(sig_shape[0]):\n",
    "    avgRate[i,:]  = eRates00[i]#.smooth_rate(width=smooth_width)\n",
    "    avgRate[i,:] += eRates15[i]#.smooth_rate(width=smooth_width)\n",
    "    avgRate[i,:] += eRates31[i]#.smooth_rate(width=smooth_width)\n",
    "    avgRate[i,:] += eRates47[i]#.smooth_rate(width=smooth_width)\n",
    "    avgRate[i,:] = avgRate[i,:]/4\n",
    "    avgRateB[i,:]  = eRates00b[i]#.smooth_rate(width=smooth_width)\n",
    "    avgRateB[i,:] += eRates15b[i]#.smooth_rate(width=smooth_width)\n",
    "    avgRateB[i,:] += eRates31b[i]#.smooth_rate(width=smooth_width)\n",
    "    avgRateB[i,:] += eRates47b[i]#.smooth_rate(width=smooth_width)\n",
    "    avgRateB[i,:] = avgRateB[i,:]/4\n",
    "    avgRateC[i,:]  = eRates00c[i]#.smooth_rate(width=smooth_width)\n",
    "    avgRateC[i,:] += eRates15c[i]#.smooth_rate(width=smooth_width)\n",
    "    avgRateC[i,:] += eRates31c[i]#.smooth_rate(width=smooth_width)\n",
    "    avgRateC[i,:] += eRates47c[i]#.smooth_rate(width=smooth_width)\n",
    "    avgRateC[i,:] = avgRateC[i,:]/4"
   ]
  },
  {
   "cell_type": "code",
   "execution_count": null,
   "metadata": {},
   "outputs": [],
   "source": [
    "plot(erate00.t/second, avgRateB[0,:]/Hz,\n",
    "     erate00.t/second, avgRateB[1,:]/Hz,\n",
    "     erate00.t/second, avgRateB[2,:]/Hz,\n",
    "     erate00.t/second, avgRateB[3,:]/Hz)"
   ]
  },
  {
   "cell_type": "code",
   "execution_count": null,
   "metadata": {},
   "outputs": [],
   "source": [
    "for i in range(sig_shape[0]):    \n",
    "    plot(erate00.t/second, avgRate[i,:]/Hz)\n",
    "xlim([1.5,6.5])"
   ]
  },
  {
   "cell_type": "code",
   "execution_count": null,
   "metadata": {},
   "outputs": [],
   "source": [
    "cut_start = 15000; cut_stop = 50000\n",
    "meanRates = np.mean(avgRate[:,cut_start:cut_stop], axis=1)\n",
    "stdRates  = np.std(avgRate[:,cut_start:cut_stop], axis=1)\n",
    "meanRatesB = np.mean(avgRateB[:,cut_start:cut_stop], axis=1)\n",
    "stdRatesB  = np.std(avgRateB[:,cut_start:cut_stop], axis=1)\n",
    "meanRatesC = np.mean(avgRateC[:,cut_start:cut_stop], axis=1)\n",
    "stdRatesC  = np.std(avgRateC[:,cut_start:cut_stop], axis=1)"
   ]
  },
  {
   "cell_type": "code",
   "execution_count": null,
   "metadata": {
    "scrolled": true
   },
   "outputs": [],
   "source": [
    "ax = gca()\n",
    "ax.errorbar(poissonRates/1000, meanRates, yerr=stdRates)\n",
    "ax.errorbar(poissonRates/1000, meanRatesB, yerr=stdRatesB)\n",
    "ax.errorbar(poissonRates/1000, meanRatesC, yerr=stdRatesC)"
   ]
  },
  {
   "cell_type": "code",
   "execution_count": null,
   "metadata": {},
   "outputs": [],
   "source": [
    "totAvgRate = (avgRate + avgRateB + avgRateC)/3.0\n",
    "meanRatesTotal = np.mean(totAvgRate[:,cut_start:cut_stop], axis=1)\n",
    "stdRatesTotal = np.std(totAvgRate[:,cut_start:cut_stop], axis=1)"
   ]
  },
  {
   "cell_type": "code",
   "execution_count": null,
   "metadata": {},
   "outputs": [],
   "source": [
    "ax = gca()\n",
    "ax.errorbar(poissonRates/1000, meanRatesTotal, yerr=stdRatesTotal, color='C0', LineWidth=2.5, ecolor='C1')\n",
    "xlabel('Mean Input Rate (kHz)')\n",
    "ylabel('Angular Frequency (Hz)')\n",
    "grid()"
   ]
  },
  {
   "cell_type": "markdown",
   "metadata": {},
   "source": [
    "## Making Everything Easy for Bayo"
   ]
  },
  {
   "cell_type": "code",
   "execution_count": null,
   "metadata": {},
   "outputs": [],
   "source": [
    "start_scope()\n",
    "\n",
    "G1 = NeuronGroup(2*M, neuron_eq, threshold='Vm>Vt', reset=reset_eq, method='exact')\n",
    "G1.Vt = Vt_r\n",
    "G1.Vm = Vm_r\n",
    "G1_exc = G1[:M]\n",
    "G1_inh = G1[M:]\n",
    "\n",
    "G1_e2i = Synapses(G1_exc, G1_inh, syn_eq, on_pre=presyn_eq)\n",
    "W1_e2i = calc_weight(M,alpha,mu1,sigma)\n",
    "for ii in range(M):\n",
    "    for jj in range(M):\n",
    "        if ~isnan(W1_e2i[ii,jj]):\n",
    "            G1_e2i.connect(i=ii,j=jj)\n",
    "G1_e2i.Em = Em_vals[3]\n",
    "G1_e2i.W = W1_e2i[~isnan(W1_e2i)].flatten()\n",
    "\n",
    "G1_i2e = Synapses(G1_inh, G1_exc, syn_eq, on_pre=presyn_eq)\n",
    "W1_i2e = calc_weight(M,alpha,mu2,sigma)\n",
    "for ii in range(M):\n",
    "    for jj in range(M):\n",
    "        if ~isnan(W1_i2e[ii,jj]):\n",
    "            G1_i2e.connect(i=ii,j=jj)\n",
    "G1_i2e.Em = Em_vals[0]\n",
    "G1_i2e.W = W1_i2e[~isnan(W1_i2e)].flatten()\n",
    "\n",
    "G1_i2i = Synapses(G1_inh, G1_inh, syn_eq, on_pre=presyn_eq)\n",
    "W1_i2i = calc_weight(M,alpha,mu1,sigma)\n",
    "for ii in range(M):\n",
    "    for jj in range(M):\n",
    "        if ~isnan(W1_i2i[ii,jj]):\n",
    "            G1_i2i.connect(i=ii,j=jj)\n",
    "G1_i2i.Em = Em_vals[0]\n",
    "G1_i2i.W = W1_i2i[~isnan(W1_i2i)].flatten()\n",
    "\n",
    "P1_rates = '(3)*kHz'\n",
    "P1 = PoissonGroup(M,rates=P1_rates)\n",
    "P1_syn = Synapses(P1, G1_exc, syn_eq, on_pre=presyn_eq)\n",
    "P1_syn.connect('j==i')\n",
    "P1_syn.Em = Em_vals[3]\n",
    "P1_syn.W = W_vals[2] + W_vals[0]\n",
    "\n",
    "G1e_sp = SpikeMonitor(G1_exc)\n",
    "P1_rate = StateMonitor(P1, 'rates',record=True)"
   ]
  },
  {
   "cell_type": "code",
   "execution_count": null,
   "metadata": {},
   "outputs": [],
   "source": [
    "e2i = calc_weight(M,alpha,mu1,sigma)"
   ]
  },
  {
   "cell_type": "code",
   "execution_count": null,
   "metadata": {},
   "outputs": [],
   "source": [
    "imshow(e2i/farad)"
   ]
  },
  {
   "cell_type": "code",
   "execution_count": null,
   "metadata": {},
   "outputs": [],
   "source": [
    "e2i[0,30]"
   ]
  },
  {
   "cell_type": "code",
   "execution_count": null,
   "metadata": {},
   "outputs": [],
   "source": [
    "plot(e2i[0,:]/fF)"
   ]
  },
  {
   "cell_type": "code",
   "execution_count": null,
   "metadata": {},
   "outputs": [],
   "source": [
    "e2i = e2i/fF"
   ]
  },
  {
   "cell_type": "code",
   "execution_count": null,
   "metadata": {},
   "outputs": [],
   "source": [
    "e2i[e2i==0] = np.nan"
   ]
  },
  {
   "cell_type": "code",
   "execution_count": null,
   "metadata": {},
   "outputs": [],
   "source": [
    "e2i"
   ]
  },
  {
   "cell_type": "code",
   "execution_count": null,
   "metadata": {},
   "outputs": [],
   "source": [
    "imshow(e2i)"
   ]
  },
  {
   "cell_type": "code",
   "execution_count": null,
   "metadata": {},
   "outputs": [],
   "source": [
    "shape(e2i)"
   ]
  },
  {
   "cell_type": "code",
   "execution_count": null,
   "metadata": {
    "scrolled": true
   },
   "outputs": [],
   "source": [
    "np.count_nonzero(~np.isnan(e2i))"
   ]
  },
  {
   "cell_type": "code",
   "execution_count": null,
   "metadata": {},
   "outputs": [],
   "source": [
    "start_scope()"
   ]
  },
  {
   "cell_type": "code",
   "execution_count": null,
   "metadata": {},
   "outputs": [],
   "source": [
    "W = np.array([[1, 2, 4, nan, 2],[3,nan,nan,4,3],[nan,2,2,nan,nan],[1,1,nan,1,nan],[1,1,1,nan,nan]])"
   ]
  },
  {
   "cell_type": "code",
   "execution_count": null,
   "metadata": {},
   "outputs": [],
   "source": [
    "W[0,:]"
   ]
  },
  {
   "cell_type": "code",
   "execution_count": null,
   "metadata": {},
   "outputs": [],
   "source": [
    "shape(W)"
   ]
  },
  {
   "cell_type": "code",
   "execution_count": null,
   "metadata": {
    "scrolled": false
   },
   "outputs": [],
   "source": [
    "source = NeuronGroup(5, neuron_eq, threshold='Vm>Vt', reset=reset_eq, method='exact')\n",
    "source.Vt = Vt_r\n",
    "source.Vm = Vm_r\n",
    "\n",
    "target = NeuronGroup(5, neuron_eq, threshold='Vm>Vt', reset=reset_eq, method='exact')\n",
    "target.Vt = Vt_r\n",
    "target.Vm = Vm_r\n",
    "\n",
    "S = Synapses(source, target, syn_eq, on_pre=presyn_eq)\n",
    "for i in range(shape(W)[0]):\n",
    "    for j in range(shape(W)[1]):\n",
    "        if ~np.isnan(W[i,j]):\n",
    "            S.connect(i=i,j=j)\n",
    "S.Em = Em_vals[3]\n",
    "S.W = W[~isnan(W)].flatten()*farad\n"
   ]
  },
  {
   "cell_type": "code",
   "execution_count": null,
   "metadata": {},
   "outputs": [],
   "source": [
    "visualize_connectivity(S)"
   ]
  },
  {
   "cell_type": "code",
   "execution_count": null,
   "metadata": {},
   "outputs": [],
   "source": [
    "S.W[2,2]"
   ]
  },
  {
   "cell_type": "code",
   "execution_count": null,
   "metadata": {},
   "outputs": [],
   "source": []
  }
 ],
 "metadata": {
  "jupytext_formats": "ipynb,py",
  "kernelspec": {
   "display_name": "Python 3",
   "language": "python",
   "name": "python3"
  },
  "language_info": {
   "codemirror_mode": {
    "name": "ipython",
    "version": 3
   },
   "file_extension": ".py",
   "mimetype": "text/x-python",
   "name": "python",
   "nbconvert_exporter": "python",
   "pygments_lexer": "ipython3",
   "version": "3.6.6"
  }
 },
 "nbformat": 4,
 "nbformat_minor": 2
}
