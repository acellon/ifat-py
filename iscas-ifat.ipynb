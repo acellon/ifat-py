{
 "cells": [
  {
   "cell_type": "markdown",
   "metadata": {},
   "source": [
    "# ISCAS Paper Work\n",
    "See `ifat.py` for synaptic connetvitiy plots"
   ]
  },
  {
   "cell_type": "code",
   "execution_count": 1,
   "metadata": {},
   "outputs": [],
   "source": [
    "from brian2 import *\n",
    "import matplotlib.pyplot as plt\n",
    "\n",
    "%matplotlib inline"
   ]
  },
  {
   "cell_type": "code",
   "execution_count": 2,
   "metadata": {},
   "outputs": [],
   "source": [
    "def visualize_connectivity(S):\n",
    "    Ns = len(S.source)\n",
    "    Nt = len(S.target)\n",
    "    figure(figsize=(10, 4))\n",
    "    subplot(121)\n",
    "    plot(zeros(Ns), arange(Ns), 'ok', ms=10)\n",
    "    plot(ones(Nt), arange(Nt), 'ok', ms=10)\n",
    "    for i, j in zip(S.i, S.j):\n",
    "        plot([0, 1], [i, j], '-k')\n",
    "    xticks([0, 1], ['Source', 'Target'])\n",
    "    ylabel('Neuron index')\n",
    "    xlim(-0.1, 1.1)\n",
    "    ylim(-1, max(Ns, Nt))\n",
    "    subplot(122)\n",
    "    plot(S.i, S.j, 'ok')\n",
    "    xlim(-1, Ns)\n",
    "    ylim(-1, Nt)\n",
    "    xlabel('Source neuron index')\n",
    "    ylabel('Target neuron index')"
   ]
  },
  {
   "cell_type": "code",
   "execution_count": 3,
   "metadata": {},
   "outputs": [],
   "source": [
    "def calc_weight(M, alpha, mu, sigma):\n",
    "    alpha = alpha/fF\n",
    "    output = zeros((M,M))\n",
    "    for i in np.arange(M):\n",
    "        for j in np.arange(M):\n",
    "            output[i,j] = exp(cos((2*pi*i/M) - (2*pi*j/M) - mu)/sigma**2)\n",
    "    output = output * (alpha/np.max(output))\n",
    "    output = 5.0 * np.around(output/(5.0))\n",
    "    output[output==0.] = nan\n",
    "    return output"
   ]
  },
  {
   "cell_type": "code",
   "execution_count": 4,
   "metadata": {},
   "outputs": [],
   "source": [
    "MODE = 'adaptive'\n",
    "PARASITICS = True"
   ]
  },
  {
   "cell_type": "code",
   "execution_count": 5,
   "metadata": {},
   "outputs": [],
   "source": [
    "# Define various equations\n",
    "\n",
    "if MODE == 'adaptive':\n",
    "    neuron_eq = '''\n",
    "        dVm/dt = ((glm + gpar) / Cm) * (Vm_r - Vm)  : volt\n",
    "        dVt/dt = ((glt + gpar) / Ct) * (Vt_r - Vt)  : volt\n",
    "        \n",
    "        # dVm/dt = (glm / Cm) * (Vm_r - Vm) : volt\n",
    "        # dVt/dt = (glt / Ct) * (Vt_r - Vt) : volt\n",
    "\n",
    "        glm = flm * Cl                              : siemens\n",
    "        glt = flt * Cl                              : siemens\n",
    "        gpar = par_ctrl / par_leak_time * Cm : siemens\n",
    "    '''\n",
    "    reset_eq = '''\n",
    "        Vm = Vm_r\n",
    "        Vt = Vt * (Vt > Vm) + Vt_r * (Vt <= Vm)\n",
    "    '''\n",
    "    presyn_eq = '''\n",
    "        Vm_old = Vm\n",
    "        Vm = Vm_old + Vsyn\n",
    "        Vt += (Cst/Ct) * (Vm_old - Vm_r)\n",
    "    '''\n",
    "else:\n",
    "    neuron_eq = '''\n",
    "        dVm/dt = (glm / Cm) * (Vm_r - Vm) : volt\n",
    "\n",
    "        glm = flm * Cl                    : siemens\n",
    "    '''\n",
    "    reset_eq = '''\n",
    "        Vm = Vm_r\n",
    "    '''\n",
    "    presyn_eq = '''\n",
    "        Vm_old = Vm\n",
    "        Vm = Vm_old + Vsyn\n",
    "    '''\n",
    "\n",
    "# Synapse equation is the same for both modes!\n",
    "syn_eq = '''\n",
    "    Vsyn = (W/Cm)*(Em - Vm) : volt\n",
    "    Em                      : volt\n",
    "    W                       : farad\n",
    "'''"
   ]
  },
  {
   "cell_type": "code",
   "execution_count": 6,
   "metadata": {},
   "outputs": [],
   "source": [
    "# IFAT specific definitions\n",
    "fF = 0.001 * pF\n",
    "Vdd = 5 * volt\n",
    "Cm = Ct = 440 * fF\n",
    "Cl = 2 * fF\n",
    "\n",
    "W_vals  = np.array([5, 10, 20, 40, 80]) * fF\n",
    "Em_vals = np.array([0, 1/3, 2/3, 1]) * Vdd\n",
    "\n",
    "par_ctrl = True\n",
    "par_ctrl = float(PARASITICS)\n",
    "par_leak_time = 12.5 * ms"
   ]
  },
  {
   "cell_type": "code",
   "execution_count": 7,
   "metadata": {},
   "outputs": [],
   "source": [
    "# Model parameters\n",
    "Vm_r = 1 * volt\n",
    "flm  = 0 * kHz\n",
    "Csm  = W_vals[0]\n",
    "\n",
    "Vt_r = 3.5 * volt\n",
    "flt  = 0 * MHz\n",
    "Cst  = 0 * fF\n",
    "\n",
    "M = 64"
   ]
  },
  {
   "cell_type": "code",
   "execution_count": 8,
   "metadata": {},
   "outputs": [],
   "source": [
    "# Connectivity specifics\n",
    "alpha = sum(W_vals)\n",
    "mu1 = 0\n",
    "mu2 = 2*pi/3\n",
    "mu3 = pi\n",
    "sigma = 36 * pi/180"
   ]
  },
  {
   "cell_type": "code",
   "execution_count": 9,
   "metadata": {},
   "outputs": [],
   "source": [
    "start_scope()\n",
    "\n",
    "blair_exc = NeuronGroup(M, neuron_eq, threshold='Vm>Vt', reset=reset_eq, method='exact')\n",
    "blair_exc.Vt = Vt_r\n",
    "blair_exc.Vm = Vm_r\n",
    "\n",
    "blair_inh = NeuronGroup(M, neuron_eq, threshold='Vm>Vt', reset=reset_eq, method='exact')\n",
    "blair_inh.Vt = Vt_r\n",
    "blair_inh.Vm = Vm_r"
   ]
  },
  {
   "cell_type": "code",
   "execution_count": 10,
   "metadata": {},
   "outputs": [],
   "source": [
    "exc2inh = Synapses(blair_exc, blair_inh, syn_eq, on_pre=presyn_eq)\n",
    "exc2inh.connect()\n",
    "exc2inh.Em = Em_vals[3]\n",
    "exc2inh.W = calc_weight(M,alpha,mu1,sigma).flatten()*fF\n",
    "\n",
    "inh2exc = Synapses(blair_inh, blair_exc, syn_eq, on_pre=presyn_eq)\n",
    "inh2exc.connect()\n",
    "inh2exc.Em = Em_vals[0]\n",
    "inh2exc.W  = calc_weight(M,alpha,mu2,sigma).flatten()*fF\n",
    "\n",
    "inh2inh = Synapses(blair_inh, blair_inh, syn_eq, on_pre=presyn_eq)\n",
    "inh2inh.connect()\n",
    "inh2inh.Em = Em_vals[0]\n",
    "inh2inh.W = calc_weight(M,alpha,mu1,sigma).flatten()*fF"
   ]
  },
  {
   "cell_type": "code",
   "execution_count": 11,
   "metadata": {},
   "outputs": [],
   "source": [
    "PoisIn = PoissonGroup(M,rates=0*kHz)\n",
    "p2exc = Synapses(PoisIn, blair_exc, syn_eq, on_pre=presyn_eq)\n",
    "p2exc.connect('j==i')\n",
    "p2exc.Em = Em_vals[3]\n",
    "p2exc.W = W_vals[2] + W_vals[0]# + W_vals[0]"
   ]
  },
  {
   "cell_type": "code",
   "execution_count": 12,
   "metadata": {},
   "outputs": [],
   "source": [
    "i_spmon = SpikeMonitor(blair_inh)\n",
    "e_spmon = SpikeMonitor(blair_exc)\n",
    "e_vmon = StateMonitor(blair_exc, 'Vm', record=True)\n",
    "inrate = PopulationRateMonitor(PoisIn)\n",
    "erate00 = PopulationRateMonitor(blair_exc[:1])\n",
    "erate15 = PopulationRateMonitor(blair_exc[15:16])\n",
    "erate31 = PopulationRateMonitor(blair_exc[31:32])\n",
    "erate47 = PopulationRateMonitor(blair_exc[47:48])\n",
    "ratecheck = StateMonitor(PoisIn, 'rates',record=True)\n",
    "#irate = PopulationRateMonitor(blair_inh[:1])"
   ]
  },
  {
   "cell_type": "code",
   "execution_count": 13,
   "metadata": {},
   "outputs": [],
   "source": [
    "store()\n",
    "#poissonRates = arange(2.0,4.0,0.1)*kHz\n",
    "poissonRates = [3*kHz]"
   ]
  },
  {
   "cell_type": "code",
   "execution_count": 14,
   "metadata": {
    "scrolled": true
   },
   "outputs": [],
   "source": [
    "#rateOuts = zeros((4,20))\n",
    "eRates00 = []; eRates00b = []; eRates00c = []\n",
    "eRates15 = []; eRates15b = []; eRates15c = []\n",
    "eRates31 = []; eRates31b = []; eRates31c = []\n",
    "eRates47 = []; eRates47b = []; eRates47c = []"
   ]
  },
  {
   "cell_type": "code",
   "execution_count": 15,
   "metadata": {
    "scrolled": false
   },
   "outputs": [
    {
     "name": "stdout",
     "output_type": "stream",
     "text": [
      "3. kHz\n",
      "Starting simulation at t=0. s for a duration of 8. s\n",
      "5.8487 (73%) simulated in 10s, estimated 4s remaining.\n"
     ]
    },
    {
     "name": "stderr",
     "output_type": "stream",
     "text": [
      "WARNING    neurongroup's variable 'Vm' has NaN, very large values, or encountered an error in numerical integration. This is usually a sign that an unstable or invalid integration method was chosen. [brian2.groups.group.invalid_values]\n",
      "WARNING    neurongroup's variable 'Vt' has NaN, very large values, or encountered an error in numerical integration. This is usually a sign that an unstable or invalid integration method was chosen. [brian2.groups.group.invalid_values]\n",
      "WARNING    neurongroup_1's variable 'Vm' has NaN, very large values, or encountered an error in numerical integration. This is usually a sign that an unstable or invalid integration method was chosen. [brian2.groups.group.invalid_values]\n",
      "WARNING    neurongroup_1's variable 'Vt' has NaN, very large values, or encountered an error in numerical integration. This is usually a sign that an unstable or invalid integration method was chosen. [brian2.groups.group.invalid_values]\n"
     ]
    },
    {
     "name": "stdout",
     "output_type": "stream",
     "text": [
      "8.0 (100%) simulated in 13s\n"
     ]
    }
   ],
   "source": [
    "BrianLogger.suppress_hierarchy('brian2.codegen.generators.base')\n",
    "for thing in range(1):\n",
    "    for poissonRate in poissonRates:\n",
    "        restore()\n",
    "        PoisIn.rates = poissonRate\n",
    "        print(poissonRate)\n",
    "        run(8*second,report='text')\n",
    "        if thing == 0:\n",
    "            eRates00.append(erate00.smooth_rate(width=100*ms))\n",
    "            eRates15.append(erate15.smooth_rate(width=100*ms))\n",
    "            eRates31.append(erate31.smooth_rate(width=100*ms))\n",
    "            eRates47.append(erate47.smooth_rate(width=100*ms))\n",
    "        elif thing == 1:\n",
    "            eRates00b.append(erate00.smooth_rate(width=100*ms))\n",
    "            eRates15b.append(erate15.smooth_rate(width=100*ms))\n",
    "            eRates31b.append(erate31.smooth_rate(width=100*ms))\n",
    "            eRates47b.append(erate47.smooth_rate(width=100*ms))\n",
    "        else:\n",
    "            eRates00c.append(erate00.smooth_rate(width=100*ms))\n",
    "            eRates15c.append(erate15.smooth_rate(width=100*ms))\n",
    "            eRates31c.append(erate31.smooth_rate(width=100*ms))\n",
    "            eRates47c.append(erate47.smooth_rate(width=100*ms))"
   ]
  },
  {
   "cell_type": "code",
   "execution_count": 21,
   "metadata": {},
   "outputs": [
    {
     "data": {
      "text/plain": [
       "Text(0,0.5,'Neuron index')"
      ]
     },
     "execution_count": 21,
     "metadata": {},
     "output_type": "execute_result"
    },
    {
     "data": {
      "image/png": "[encoded data removed]",
      "text/plain": [
       "<matplotlib.figure.Figure at 0x7f0269a0ada0>"
      ]
     },
     "metadata": {},
     "output_type": "display_data"
    }
   ],
   "source": [
    "figure(figsize=(8,6))\n",
    "plot(e_spmon.t/ms-5000, e_spmon.i,'.'); xlim([0,250])\n",
    "xlabel('Time (ms)')\n",
    "ylabel('Neuron index')"
   ]
  },
  {
   "cell_type": "code",
   "execution_count": 17,
   "metadata": {},
   "outputs": [
    {
     "data": {
      "text/plain": [
       "(2, 6)"
      ]
     },
     "execution_count": 17,
     "metadata": {},
     "output_type": "execute_result"
    },
    {
     "data": {
      "image/png": "[encoded data removed]",
      "text/plain": [
       "<matplotlib.figure.Figure at 0x7f026880c828>"
      ]
     },
     "metadata": {},
     "output_type": "display_data"
    }
   ],
   "source": [
    "rateWidth = 1000 * ms\n",
    "plot(erate00.t/second, erate00.smooth_rate(width=rateWidth)/Hz,\n",
    "     erate15.t/second, erate15.smooth_rate(width=rateWidth)/Hz,\n",
    "     erate31.t/second, erate31.smooth_rate(width=rateWidth)/Hz,\n",
    "     erate47.t/second, erate47.smooth_rate(width=rateWidth)/Hz)\n",
    "xlim([2,6])"
   ]
  },
  {
   "cell_type": "code",
   "execution_count": 18,
   "metadata": {
    "scrolled": false
   },
   "outputs": [
    {
     "data": {
      "text/plain": [
       "Text(0,0.5,'Membrane Voltage (V)')"
      ]
     },
     "execution_count": 18,
     "metadata": {},
     "output_type": "execute_result"
    },
    {
     "data": {
      "image/png": "[encoded data removed]",
      "text/plain": [
       "<matplotlib.figure.Figure at 0x7f026687bda0>"
      ]
     },
     "metadata": {},
     "output_type": "display_data"
    }
   ],
   "source": [
    "idx = 32\n",
    "figure(figsize=(8,6))\n",
    "plot(e_vmon.t/ms-5000, e_vmon.Vm[idx]); xlim([0,250])\n",
    "scatter(e_spmon.t[e_spmon.i==idx]/ms-5000,3.65*ones(len(e_spmon.t[e_spmon.i==idx])),color='r')\n",
    "xlabel('Time (ms)')\n",
    "ylabel('Membrane Voltage (V)')"
   ]
  },
  {
   "cell_type": "code",
   "execution_count": 19,
   "metadata": {},
   "outputs": [
    {
     "ename": "IndexError",
     "evalue": "list index out of range",
     "output_type": "error",
     "traceback": [
      "\u001b[0;31m---------------------------------------------------------------------------\u001b[0m",
      "\u001b[0;31mIndexError\u001b[0m                                Traceback (most recent call last)",
      "\u001b[0;32m<ipython-input-19-7b0fe514a6a0>\u001b[0m in \u001b[0;36m<module>\u001b[0;34m()\u001b[0m\n\u001b[1;32m     12\u001b[0m     \u001b[0mavgRate\u001b[0m\u001b[0;34m[\u001b[0m\u001b[0mi\u001b[0m\u001b[0;34m,\u001b[0m\u001b[0;34m:\u001b[0m\u001b[0;34m]\u001b[0m \u001b[0;34m+=\u001b[0m \u001b[0meRates47\u001b[0m\u001b[0;34m[\u001b[0m\u001b[0mi\u001b[0m\u001b[0;34m]\u001b[0m\u001b[0;31m#.smooth_rate(width=smooth_width)\u001b[0m\u001b[0;34m\u001b[0m\u001b[0m\n\u001b[1;32m     13\u001b[0m     \u001b[0mavgRate\u001b[0m\u001b[0;34m[\u001b[0m\u001b[0mi\u001b[0m\u001b[0;34m,\u001b[0m\u001b[0;34m:\u001b[0m\u001b[0;34m]\u001b[0m \u001b[0;34m=\u001b[0m \u001b[0mavgRate\u001b[0m\u001b[0;34m[\u001b[0m\u001b[0mi\u001b[0m\u001b[0;34m,\u001b[0m\u001b[0;34m:\u001b[0m\u001b[0;34m]\u001b[0m\u001b[0;34m/\u001b[0m\u001b[0;36m4\u001b[0m\u001b[0;34m\u001b[0m\u001b[0m\n\u001b[0;32m---> 14\u001b[0;31m     \u001b[0mavgRateB\u001b[0m\u001b[0;34m[\u001b[0m\u001b[0mi\u001b[0m\u001b[0;34m,\u001b[0m\u001b[0;34m:\u001b[0m\u001b[0;34m]\u001b[0m  \u001b[0;34m=\u001b[0m \u001b[0meRates00b\u001b[0m\u001b[0;34m[\u001b[0m\u001b[0mi\u001b[0m\u001b[0;34m]\u001b[0m\u001b[0;31m#.smooth_rate(width=smooth_width)\u001b[0m\u001b[0;34m\u001b[0m\u001b[0m\n\u001b[0m\u001b[1;32m     15\u001b[0m     \u001b[0mavgRateB\u001b[0m\u001b[0;34m[\u001b[0m\u001b[0mi\u001b[0m\u001b[0;34m,\u001b[0m\u001b[0;34m:\u001b[0m\u001b[0;34m]\u001b[0m \u001b[0;34m+=\u001b[0m \u001b[0meRates15b\u001b[0m\u001b[0;34m[\u001b[0m\u001b[0mi\u001b[0m\u001b[0;34m]\u001b[0m\u001b[0;31m#.smooth_rate(width=smooth_width)\u001b[0m\u001b[0;34m\u001b[0m\u001b[0m\n\u001b[1;32m     16\u001b[0m     \u001b[0mavgRateB\u001b[0m\u001b[0;34m[\u001b[0m\u001b[0mi\u001b[0m\u001b[0;34m,\u001b[0m\u001b[0;34m:\u001b[0m\u001b[0;34m]\u001b[0m \u001b[0;34m+=\u001b[0m \u001b[0meRates31b\u001b[0m\u001b[0;34m[\u001b[0m\u001b[0mi\u001b[0m\u001b[0;34m]\u001b[0m\u001b[0;31m#.smooth_rate(width=smooth_width)\u001b[0m\u001b[0;34m\u001b[0m\u001b[0m\n",
      "\u001b[0;31mIndexError\u001b[0m: list index out of range"
     ]
    }
   ],
   "source": [
    "smooth_width = 1000*ms\n",
    "\n",
    "sig_shape = shape(eRates00)\n",
    "avgRate = zeros(sig_shape)\n",
    "avgRateB = zeros(sig_shape)\n",
    "avgRateC = zeros(sig_shape)\n",
    "\n",
    "for i in range(sig_shape[0]):\n",
    "    avgRate[i,:]  = eRates00[i]#.smooth_rate(width=smooth_width)\n",
    "    avgRate[i,:] += eRates15[i]#.smooth_rate(width=smooth_width)\n",
    "    avgRate[i,:] += eRates31[i]#.smooth_rate(width=smooth_width)\n",
    "    avgRate[i,:] += eRates47[i]#.smooth_rate(width=smooth_width)\n",
    "    avgRate[i,:] = avgRate[i,:]/4\n",
    "    avgRateB[i,:]  = eRates00b[i]#.smooth_rate(width=smooth_width)\n",
    "    avgRateB[i,:] += eRates15b[i]#.smooth_rate(width=smooth_width)\n",
    "    avgRateB[i,:] += eRates31b[i]#.smooth_rate(width=smooth_width)\n",
    "    avgRateB[i,:] += eRates47b[i]#.smooth_rate(width=smooth_width)\n",
    "    avgRateB[i,:] = avgRateB[i,:]/4\n",
    "    avgRateC[i,:]  = eRates00c[i]#.smooth_rate(width=smooth_width)\n",
    "    avgRateC[i,:] += eRates15c[i]#.smooth_rate(width=smooth_width)\n",
    "    avgRateC[i,:] += eRates31c[i]#.smooth_rate(width=smooth_width)\n",
    "    avgRateC[i,:] += eRates47c[i]#.smooth_rate(width=smooth_width)\n",
    "    avgRateC[i,:] = avgRateC[i,:]/4"
   ]
  },
  {
   "cell_type": "code",
   "execution_count": null,
   "metadata": {},
   "outputs": [],
   "source": [
    "plot(erate00.t/second, avgRateB[0,:]/Hz,\n",
    "     erate00.t/second, avgRateB[1,:]/Hz,\n",
    "     erate00.t/second, avgRateB[2,:]/Hz,\n",
    "     erate00.t/second, avgRateB[3,:]/Hz)"
   ]
  },
  {
   "cell_type": "code",
   "execution_count": null,
   "metadata": {},
   "outputs": [],
   "source": [
    "for i in range(sig_shape[0]):    \n",
    "    plot(erate00.t/second, avgRate[i,:]/Hz)\n",
    "xlim([1.5,6.5])"
   ]
  },
  {
   "cell_type": "code",
   "execution_count": null,
   "metadata": {},
   "outputs": [],
   "source": [
    "cut_start = 15000; cut_stop = 50000\n",
    "meanRates = np.mean(avgRate[:,cut_start:cut_stop], axis=1)\n",
    "stdRates  = np.std(avgRate[:,cut_start:cut_stop], axis=1)\n",
    "meanRatesB = np.mean(avgRateB[:,cut_start:cut_stop], axis=1)\n",
    "stdRatesB  = np.std(avgRateB[:,cut_start:cut_stop], axis=1)\n",
    "meanRatesC = np.mean(avgRateC[:,cut_start:cut_stop], axis=1)\n",
    "stdRatesC  = np.std(avgRateC[:,cut_start:cut_stop], axis=1)"
   ]
  },
  {
   "cell_type": "code",
   "execution_count": null,
   "metadata": {
    "scrolled": true
   },
   "outputs": [],
   "source": [
    "ax = gca()\n",
    "ax.errorbar(poissonRates/1000, meanRates, yerr=stdRates)\n",
    "ax.errorbar(poissonRates/1000, meanRatesB, yerr=stdRatesB)\n",
    "ax.errorbar(poissonRates/1000, meanRatesC, yerr=stdRatesC)"
   ]
  },
  {
   "cell_type": "code",
   "execution_count": null,
   "metadata": {},
   "outputs": [],
   "source": [
    "totAvgRate = (avgRate + avgRateB + avgRateC)/3.0\n",
    "meanRatesTotal = np.mean(totAvgRate[:,cut_start:cut_stop], axis=1)\n",
    "stdRatesTotal = np.std(totAvgRate[:,cut_start:cut_stop], axis=1)"
   ]
  },
  {
   "cell_type": "code",
   "execution_count": null,
   "metadata": {},
   "outputs": [],
   "source": [
    "ax = gca()\n",
    "ax.errorbar(poissonRates/1000, meanRatesTotal, yerr=stdRatesTotal, color='C0', LineWidth=2.5, ecolor='C1')\n",
    "xlabel('Mean Input Rate (kHz)')\n",
    "ylabel('Angular Frequency (Hz)')\n",
    "grid()"
   ]
  },
  {
   "cell_type": "markdown",
   "metadata": {},
   "source": [
    "## Making Everything Easy for Bayo"
   ]
  },
  {
   "cell_type": "code",
   "execution_count": null,
   "metadata": {},
   "outputs": [],
   "source": [
    "start_scope()\n",
    "\n",
    "G1 = NeuronGroup(2*M, neuron_eq, threshold='Vm>Vt', reset=reset_eq, method='exact')\n",
    "G1.Vt = Vt_r\n",
    "G1.Vm = Vm_r\n",
    "G1_exc = G1[:M]\n",
    "G1_inh = G1[M:]\n",
    "\n",
    "G1_e2i = Synapses(G1_exc, G1_inh, syn_eq, on_pre=presyn_eq)\n",
    "W1_e2i = calc_weight(M,alpha,mu1,sigma)\n",
    "for ii in range(M):\n",
    "    for jj in range(M):\n",
    "        if ~isnan(W1_e2i[ii,jj]):\n",
    "            G1_e2i.connect(i=ii,j=jj)\n",
    "G1_e2i.Em = Em_vals[3]\n",
    "G1_e2i.W = W1_e2i[~isnan(W1_e2i)].flatten()*fF\n",
    "\n",
    "G1_i2e = Synapses(G1_inh, G1_exc, syn_eq, on_pre=presyn_eq)\n",
    "W1_i2e = calc_weight(M,alpha,mu2,sigma)\n",
    "for ii in range(M):\n",
    "    for jj in range(M):\n",
    "        if ~isnan(W1_i2e[ii,jj]):\n",
    "            G1_i2e.connect(i=ii,j=jj)\n",
    "G1_i2e.Em = Em_vals[0]\n",
    "G1_i2e.W = W1_i2e[~isnan(W1_i2e)].flatten()*fF\n",
    "\n",
    "G1_i2i = Synapses(G1_inh, G1_inh, syn_eq, on_pre=presyn_eq)\n",
    "W1_i2i = calc_weight(M,alpha,mu1,sigma)\n",
    "for ii in range(M):\n",
    "    for jj in range(M):\n",
    "        if ~isnan(W1_i2i[ii,jj]):\n",
    "            G1_i2i.connect(i=ii,j=jj)\n",
    "G1_i2i.Em = Em_vals[0]\n",
    "G1_i2i.W = W1_i2i[~isnan(W1_i2i)].flatten()*fF\n",
    "\n",
    "P1_rates = '(3)*kHz'\n",
    "P1 = PoissonGroup(M,rates=P1_rates)\n",
    "P1_syn = Synapses(P1, G1_exc, syn_eq, on_pre=presyn_eq)\n",
    "P1_syn.connect('j==i')\n",
    "P1_syn.Em = Em_vals[3]\n",
    "P1_syn.W = W_vals[2] + W_vals[0]\n",
    "\n",
    "G1e_sp = SpikeMonitor(G1_exc)\n",
    "G1e_v  = StateMonitor(G1_exc, 'Vm', record=True)\n",
    "P1_rate = StateMonitor(P1, 'rates',record=True)"
   ]
  },
  {
   "cell_type": "code",
   "execution_count": null,
   "metadata": {},
   "outputs": [],
   "source": [
    "run(10*second, report='text')"
   ]
  },
  {
   "cell_type": "code",
   "execution_count": null,
   "metadata": {},
   "outputs": [],
   "source": [
    "plot(G1e_sp.t/ms,G1e_sp.i,'.')\n",
    "#xlim([1000,1020])"
   ]
  },
  {
   "cell_type": "code",
   "execution_count": null,
   "metadata": {},
   "outputs": [],
   "source": [
    "plot(G1e_v.t/ms, G1e_v.Vm[0])\n",
    "#xlim([1000,1010])"
   ]
  },
  {
   "cell_type": "code",
   "execution_count": null,
   "metadata": {},
   "outputs": [],
   "source": [
    "group1 = {'weights': W1_e2i, 'Em': 3, 'stype': 0, 'ttype': 1}\n",
    "group2 = {'weights': W1_i2e, 'Em': 0, 'stype': 1, 'ttype': 0}\n",
    "group3 = {'weights': W1_i2i, 'Em': 0, 'stype': 1, 'ttype': 1}"
   ]
  },
  {
   "cell_type": "code",
   "execution_count": null,
   "metadata": {
    "scrolled": false
   },
   "outputs": [],
   "source": [
    "def print_exc_syn(group):\n",
    "    M = shape(group['weights'])\n",
    "    for i in range(10):\n",
    "        print('{}:'.format(i), end=' ')\n",
    "        for j in range(M[1]):\n",
    "            if ~isnan(group['weights'][i,j]):\n",
    "                print(j, (group['weights'][i,j]/5).astype(int), group['Em'])#, end=' ')\n",
    "        print()\n",
    "        print()"
   ]
  },
  {
   "cell_type": "code",
   "execution_count": null,
   "metadata": {},
   "outputs": [],
   "source": [
    "def make_event(index, addr_x, wm, em_sel, wt=0, chip_sel=1, thr_switch=0, debug=0):\n",
    "    if(debug):\n",
    "        print(\"\\tMaking event..\\n\");\n",
    "\n",
    "    wm_pos = 0;\n",
    "    wt_pos = 5;\n",
    "    row_pos = 10;\n",
    "    col_pos = 16;\n",
    "    em_sel_pos = 22;\n",
    "    chip_sel_pos = 24;\n",
    "    col_sel_pos = 28;\n",
    "    addr_x_pos = 29;\n",
    "    thr_switch_pos = 30;\n",
    "    num_rows = 34;\n",
    "    num_cols = 30;\n",
    "    col_sel = 1;\n",
    "\n",
    "    row = int(index/num_cols);\n",
    "    col = int(index%num_cols)\n",
    "    row_i = (row<<row_pos) & (0b11111<<row_pos);\n",
    "    col_i = (col<<col_pos) & (0b11111<<col_pos);\n",
    "    addrx_i = (addr_x<<addr_x_pos) & (0b11111<<addr_x_pos);\n",
    "    wm_i = (wm<<wm_pos) & (0b11111<<wm_pos);\n",
    "    wt_i = (wt<<wt_pos) & (0b11111<<wt_pos);\n",
    "    em_i = (em_sel<<em_sel_pos) & (0b11111<<em_sel_pos);\n",
    "    cs_i = (chip_sel<<chip_sel_pos) & (0b11111<<chip_sel_pos);\n",
    "    col_sel_i = (col_sel<<col_sel_pos) & (0b11111<<col_sel_pos);\n",
    "    thr_sw_i = (thr_switch<<thr_switch_pos) & (0b11111<<thr_switch_pos);\n",
    "\n",
    "    out_event = row_i | col_i | addrx_i | wm_i | wt_i | em_i | cs_i | col_sel_i | thr_sw_i;\n",
    "    out_event = out_event & 0xffffffff\n",
    "    \n",
    "    if(debug):\n",
    "        print(\"\\t\\tout event:\",end=' ')\n",
    "        print(format(out_event, '032b'))\n",
    "\n",
    "    return out_event;"
   ]
  },
  {
   "cell_type": "code",
   "execution_count": null,
   "metadata": {
    "lines_to_next_cell": 2
   },
   "outputs": [],
   "source": [
    "def read_ifat_spikes(file, runtime, dt):\n",
    "    dt = dt/second\n",
    "    with open(file, 'r') as f:\n",
    "        linecount = sum(1 for line in f)\n",
    "    #inds = np.zeros(linecount)\n",
    "    exc_sp = []\n",
    "    exc_t  = []\n",
    "    inh_sp = []\n",
    "    inh_t  = []\n",
    "    with open(file,'r') as f:\n",
    "        for idx, line in enumerate(f):\n",
    "            [row, col, addrx, count_hi, count_lo] = line.split()\n",
    "            if idx == 0:\n",
    "                offset_lo = int(count_lo)\n",
    "            neuron = int(row)*30 + int(col)\n",
    "            time = dt*(((1<<13)-1)*int(count_hi) + int(count_lo) - offset_lo)\n",
    "            \n",
    "            if int(addrx):\n",
    "                inh_sp.append(neuron)\n",
    "                inh_t.append(time)\n",
    "            else:\n",
    "                exc_sp.append(neuron)\n",
    "                exc_t.append(time)\n",
    "    return asarray(exc_sp), asarray(exc_t), asarray(inh_sp), asarray(inh_t)"
   ]
  },
  {
   "cell_type": "code",
   "execution_count": null,
   "metadata": {},
   "outputs": [],
   "source": [
    "exc_sp, exc_t, _, _ = read_ifat_spikes('ifat_spikes.txt',300*ms,10*us)"
   ]
  },
  {
   "cell_type": "code",
   "execution_count": null,
   "metadata": {},
   "outputs": [],
   "source": [
    "scatter(exc_t*second/ms, exc_sp)"
   ]
  },
  {
   "cell_type": "code",
   "execution_count": null,
   "metadata": {},
   "outputs": [],
   "source": [
    "def write_exc_syn(group, file):\n",
    "    M = shape(group['weights'])\n",
    "    with open(file,'w') as f:\n",
    "        for i in range(M[0]):\n",
    "            f.write('{}:'.format(i+30*34*group['stype']))\n",
    "            for j in range(M[1]):\n",
    "                if ~isnan(group['weights'][i,j]):\n",
    "                    f.write(str(make_event(j, group['ttype'], int(group['weights'][i,j]/5), group['Em'])) + ' ')\n",
    "            if i<M[0]-1:\n",
    "                f.write('\\n')"
   ]
  },
  {
   "cell_type": "code",
   "execution_count": null,
   "metadata": {},
   "outputs": [],
   "source": [
    "write_exc_syn(group1,'check_exc.txt')"
   ]
  },
  {
   "cell_type": "code",
   "execution_count": null,
   "metadata": {},
   "outputs": [],
   "source": [
    "group3['Em']"
   ]
  },
  {
   "cell_type": "code",
   "execution_count": null,
   "metadata": {},
   "outputs": [],
   "source": [
    "def write_inh_syn(i2e, i2i, file):\n",
    "    M = shape(i2e['weights'])\n",
    "    with open(file,'w') as f:\n",
    "        for i in range(M[0]):\n",
    "            f.write('{}:'.format(i+30*34*i2e['stype']))\n",
    "            for j in range(M[1]):\n",
    "                if ~isnan(i2e['weights'][i,j]):\n",
    "                    f.write(str(make_event(j, i2e['ttype'], int(i2e['weights'][i,j]/5), i2e['Em'])) + ' ')\n",
    "                if ~isnan(i2i['weights'][i,j]):\n",
    "                    f.write(str(make_event(j, i2i['ttype'], int(i2i['weights'][i,j]/5), i2i['Em'])) + ' ')\n",
    "            if i<M[0]-1:\n",
    "                f.write('\\n')"
   ]
  },
  {
   "cell_type": "code",
   "execution_count": null,
   "metadata": {},
   "outputs": [],
   "source": [
    "write_inh_syn(group2,group3,'check_inh.txt')"
   ]
  },
  {
   "cell_type": "code",
   "execution_count": null,
   "metadata": {},
   "outputs": [],
   "source": [
    "def poissonSpikeGen(rate=3.0*kHz, dt=10.0*us, t=1*second, num_neur=1):\n",
    "    bins = int(t/dt)\n",
    "    print(bins)\n",
    "    output = rand(num_neur, bins) < rate*dt\n",
    "    time = arange(0,t,dt)\n",
    "    return time, output"
   ]
  },
  {
   "cell_type": "code",
   "execution_count": null,
   "metadata": {},
   "outputs": [],
   "source": [
    "bayo_dt = 75*us\n",
    "bayo_time = 150*ms"
   ]
  },
  {
   "cell_type": "code",
   "execution_count": null,
   "metadata": {},
   "outputs": [],
   "source": [
    "time, out = poissonSpikeGen(rate=3*kHz, dt=bayo_dt, t=bayo_time, num_neur=64)"
   ]
  },
  {
   "cell_type": "code",
   "execution_count": null,
   "metadata": {
    "scrolled": false
   },
   "outputs": [],
   "source": [
    "for i in range(M):\n",
    "    plot(time,out[i]*i,'.');\n",
    "#xlim([0,0.005])"
   ]
  },
  {
   "cell_type": "code",
   "execution_count": null,
   "metadata": {
    "scrolled": true
   },
   "outputs": [],
   "source": [
    "print('Total number of Poisson spikes: {}'.format(sum(out)))"
   ]
  },
  {
   "cell_type": "code",
   "execution_count": null,
   "metadata": {
    "lines_to_next_cell": 2
   },
   "outputs": [],
   "source": [
    "def write_poisson_stim(time, spikes, file):\n",
    "    count = 0\n",
    "    with open(file, 'w') as f:\n",
    "        for i, t in enumerate(time):\n",
    "            f.write('{}:'.format(round(t/us)))\n",
    "            for j in range(shape(spikes)[0]):\n",
    "                if spikes[j,i]:\n",
    "                    # this is currently specific, we can generalize it\n",
    "                    f.write('{} '.format(make_event(j, 0, 5, 3)))\n",
    "                    count += 1\n",
    "            if i<len(time)-1:\n",
    "                f.write('\\n')\n",
    "    print(count)"
   ]
  },
  {
   "cell_type": "code",
   "execution_count": null,
   "metadata": {},
   "outputs": [],
   "source": [
    "write_poisson_stim(time,out,'vco_stim.txt')"
   ]
  },
  {
   "cell_type": "code",
   "execution_count": null,
   "metadata": {},
   "outputs": [],
   "source": [
    "def make_spgen(timearray, spikes):\n",
    "    N = sum(out)\n",
    "    times = np.zeros(N)\n",
    "    indices = np.zeros(N)\n",
    "    count = 0\n",
    "    for idx, time in enumerate(timearray):\n",
    "        for ind in range(shape(spikes)[0]):\n",
    "            if spikes[ind, idx]:\n",
    "                times[count] = time/second\n",
    "                indices[count] = ind\n",
    "                count += 1\n",
    "    return times*second, indices"
   ]
  },
  {
   "cell_type": "code",
   "execution_count": null,
   "metadata": {},
   "outputs": [],
   "source": [
    "times, indices = make_spgen(time, out)"
   ]
  },
  {
   "cell_type": "code",
   "execution_count": null,
   "metadata": {},
   "outputs": [],
   "source": [
    "start_scope()\n",
    "defaultclock.dt = bayo_dt\n",
    "\n",
    "G1 = NeuronGroup(2*M, neuron_eq, threshold='Vm>Vt', reset=reset_eq, method='exact')\n",
    "G1.Vt = Vt_r\n",
    "G1.Vm = Vm_r\n",
    "G1_exc = G1[:M]\n",
    "G1_inh = G1[M:]\n",
    "\n",
    "G1_e2i = Synapses(G1_exc, G1_inh, syn_eq, on_pre=presyn_eq)\n",
    "W1_e2i = calc_weight(M,alpha,mu1,sigma)\n",
    "for ii in range(M):\n",
    "    for jj in range(M):\n",
    "        if ~isnan(W1_e2i[ii,jj]):\n",
    "            G1_e2i.connect(i=ii,j=jj)\n",
    "G1_e2i.Em = Em_vals[3]\n",
    "G1_e2i.W = W1_e2i[~isnan(W1_e2i)].flatten()*fF\n",
    "\n",
    "G1_i2e = Synapses(G1_inh, G1_exc, syn_eq, on_pre=presyn_eq)\n",
    "W1_i2e = calc_weight(M,alpha,mu2,sigma)\n",
    "for ii in range(M):\n",
    "    for jj in range(M):\n",
    "        if ~isnan(W1_i2e[ii,jj]):\n",
    "            G1_i2e.connect(i=ii,j=jj)\n",
    "G1_i2e.Em = Em_vals[0]\n",
    "G1_i2e.W = W1_i2e[~isnan(W1_i2e)].flatten()*fF\n",
    "\n",
    "G1_i2i = Synapses(G1_inh, G1_inh, syn_eq, on_pre=presyn_eq)\n",
    "W1_i2i = calc_weight(M,alpha,mu1,sigma)\n",
    "for ii in range(M):\n",
    "    for jj in range(M):\n",
    "        if ~isnan(W1_i2i[ii,jj]):\n",
    "            G1_i2i.connect(i=ii,j=jj)\n",
    "G1_i2i.Em = Em_vals[0]\n",
    "G1_i2i.W = W1_i2i[~isnan(W1_i2i)].flatten()*fF\n",
    "\n",
    "P1 = SpikeGeneratorGroup(M, indices, times, sorted=True)\n",
    "P1_syn = Synapses(P1, G1_exc, syn_eq, on_pre=presyn_eq)\n",
    "P1_syn.connect('j==i')\n",
    "P1_syn.Em = Em_vals[3]\n",
    "P1_syn.W = W_vals[2] + W_vals[0]\n",
    "\n",
    "G1e_sp = SpikeMonitor(G1_exc)\n",
    "G1i_sp = SpikeMonitor(G1_inh)\n",
    "G1e_v  = StateMonitor(G1_exc, 'Vm', record=True)\n",
    "G1i_v  = StateMonitor(G1_inh, 'Vm', record=True)"
   ]
  },
  {
   "cell_type": "code",
   "execution_count": null,
   "metadata": {},
   "outputs": [],
   "source": [
    "run(bayo_time, report='text')"
   ]
  },
  {
   "cell_type": "code",
   "execution_count": null,
   "metadata": {
    "scrolled": false
   },
   "outputs": [],
   "source": [
    "plot(G1e_sp.t/ms, G1e_sp.i,'.')\n",
    "#xlim([0,20])"
   ]
  },
  {
   "cell_type": "code",
   "execution_count": null,
   "metadata": {},
   "outputs": [],
   "source": [
    "plot(G1i_sp.t/ms, G1i_sp.i,'.')\n",
    "#xlim([0,20])"
   ]
  },
  {
   "cell_type": "code",
   "execution_count": null,
   "metadata": {},
   "outputs": [],
   "source": [
    "len(G1i_sp.t[G1i_sp.t/ms<23.4])+len(G1e_sp.t[G1e_sp.t/ms<23.4])"
   ]
  },
  {
   "cell_type": "code",
   "execution_count": null,
   "metadata": {},
   "outputs": [],
   "source": []
  }
 ],
 "metadata": {
  "jupytext_formats": "ipynb,py",
  "kernelspec": {
   "display_name": "Python 3",
   "language": "python",
   "name": "python3"
  },
  "language_info": {
   "codemirror_mode": {
    "name": "ipython",
    "version": 3
   },
   "file_extension": ".py",
   "mimetype": "text/x-python",
   "name": "python",
   "nbconvert_exporter": "python",
   "pygments_lexer": "ipython3",
   "version": "3.6.4"
  }
 },
 "nbformat": 4,
 "nbformat_minor": 2
}
